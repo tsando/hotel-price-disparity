{
 "cells": [
  {
   "cell_type": "markdown",
   "metadata": {},
   "source": [
    "# Predicting Price Undercutting Behaviour\n",
    "\n",
    "An Online Travel Agent (OTA) is a website that offers travel-related services such as hotel\n",
    "reservations, flights and ancillary services (e.g. tours and ground transportation), e.g. Expedia and Booking.com. A room price is said to be **undercut** if an OTA is offering the same room for a lower price than the hotel directly (i.e. the hotel is being undercut by an OTA).\n",
    "\n",
    "* The task here is to produce a model that seeks to predict undercutting behaviour by OTAs.\n",
    "\n",
    "\n",
    "* We will use some functions coded in the **`undercut.py`** script, which contains the full pipeline presented here\n",
    "\n"
   ]
  },
  {
   "cell_type": "code",
   "execution_count": 1,
   "metadata": {},
   "outputs": [],
   "source": [
    "# Plotting imports\n",
    "\n",
    "import matplotlib.pyplot as plt\n",
    "import seaborn as sns\n",
    "%matplotlib inline\n",
    "\n",
    "_ = sns.set(style=\"whitegrid\", rc={\"figure.figsize\": (12, 6),\n",
    "#                                \"legend.fontsize\": \"large\",\n",
    "                               \"axes.titlesize\": \"large\",\n",
    "                               \"xtick.labelsize\": \"large\",\n",
    "                               \"ytick.labelsize\": \"large\",\n",
    "                               })"
   ]
  },
  {
   "cell_type": "code",
   "execution_count": 2,
   "metadata": {},
   "outputs": [],
   "source": [
    "import pandas as pd\n",
    "import numpy as np"
   ]
  },
  {
   "cell_type": "markdown",
   "metadata": {},
   "source": [
    "# The Data\n",
    "\n",
    "The dataset contained over 1 million price events recorded with the following columns:\n",
    "\n",
    "**Column name**|**Description**\n",
    ":-----:|:-----:\n",
    "ota|Identifier of the OTA\n",
    "direct\\_price|Price of the room offered on the hotel website\n",
    "ota\\_price|Price of the room offered by the OTA\n",
    "received\\_time|Timestamp of when the search was made\n",
    "adults|Number of adults the search is for\n",
    "children|Number of children the search is for\n",
    "user\\_country|The country recorded for the session (ISO 3166-1 alpha-2 format), e.g. US.\n",
    "client|Identifier of client / hotel group\n",
    "hotel|Identifier of hotel. Note: a client may have multiple hotels.\n",
    "currency|Currency code (ISO 4217 format), e.g. USD."
   ]
  },
  {
   "cell_type": "code",
   "execution_count": 3,
   "metadata": {},
   "outputs": [
    {
     "data": {
      "text/plain": [
       "(1148079, 10)"
      ]
     },
     "execution_count": 3,
     "metadata": {},
     "output_type": "execute_result"
    }
   ],
   "source": [
    "# Read data\n",
    "df = pd.read_csv('data/ds_test_000000000000')\n",
    "df.shape"
   ]
  },
  {
   "cell_type": "markdown",
   "metadata": {},
   "source": [
    "This is how the first few rows look:"
   ]
  },
  {
   "cell_type": "code",
   "execution_count": 5,
   "metadata": {},
   "outputs": [
    {
     "data": {
      "text/html": [
       "<div>\n",
       "<style>\n",
       "    .dataframe thead tr:only-child th {\n",
       "        text-align: right;\n",
       "    }\n",
       "\n",
       "    .dataframe thead th {\n",
       "        text-align: left;\n",
       "    }\n",
       "\n",
       "    .dataframe tbody tr th {\n",
       "        vertical-align: top;\n",
       "    }\n",
       "</style>\n",
       "<table border=\"1\" class=\"dataframe\">\n",
       "  <thead>\n",
       "    <tr style=\"text-align: right;\">\n",
       "      <th></th>\n",
       "      <th>received_time</th>\n",
       "      <th>client</th>\n",
       "      <th>hotel</th>\n",
       "      <th>adults</th>\n",
       "      <th>children</th>\n",
       "      <th>currency</th>\n",
       "      <th>ota</th>\n",
       "      <th>ota_price</th>\n",
       "      <th>direct_price</th>\n",
       "      <th>user_country</th>\n",
       "    </tr>\n",
       "  </thead>\n",
       "  <tbody>\n",
       "    <tr>\n",
       "      <th>0</th>\n",
       "      <td>2018-02-02 15:51:58.156 UTC</td>\n",
       "      <td>nAINDtwooFKqfvvzjrnoGzqsPdM=</td>\n",
       "      <td>g0ZoIj6NwWM6BOZP93yAPOfi/3WM0Rfih2BEAP/V0A8=</td>\n",
       "      <td>2</td>\n",
       "      <td>0</td>\n",
       "      <td>RUB</td>\n",
       "      <td>Big Bad Wolf</td>\n",
       "      <td>16533.19</td>\n",
       "      <td>11859.660000</td>\n",
       "      <td>RU</td>\n",
       "    </tr>\n",
       "    <tr>\n",
       "      <th>1</th>\n",
       "      <td>2017-11-22 09:03:13.943 UTC</td>\n",
       "      <td>j7ooHJKDYPyqCjxYqsXVyUC3Zms=</td>\n",
       "      <td>s6/1irGNi4y3iTyvu3xBQvcGMhJObL2MKKLn/NBp4mY=</td>\n",
       "      <td>3</td>\n",
       "      <td>0</td>\n",
       "      <td>THB</td>\n",
       "      <td>Madam Mim</td>\n",
       "      <td>2905.00</td>\n",
       "      <td>2224.299065</td>\n",
       "      <td>SG</td>\n",
       "    </tr>\n",
       "    <tr>\n",
       "      <th>2</th>\n",
       "      <td>2018-01-09 17:09:06.415 UTC</td>\n",
       "      <td>k2csQHYSQN4LokKeDmC9jKi8lNk=</td>\n",
       "      <td>tljsEqITzJynGBAPhl9xboa24CmWSE7TgLb/Bzh36ok=</td>\n",
       "      <td>2</td>\n",
       "      <td>0</td>\n",
       "      <td>PHP</td>\n",
       "      <td>Madam Mim</td>\n",
       "      <td>11543.00</td>\n",
       "      <td>9200.000000</td>\n",
       "      <td>PH</td>\n",
       "    </tr>\n",
       "    <tr>\n",
       "      <th>3</th>\n",
       "      <td>2017-10-30 09:02:54.948 UTC</td>\n",
       "      <td>0exUs3dolgyENIDR+l+Udv59jl4=</td>\n",
       "      <td>KZxRpRejNobIe/SPIynitk3sFEwc0y+3bWGYuHD7eX4=</td>\n",
       "      <td>1</td>\n",
       "      <td>0</td>\n",
       "      <td>MYR</td>\n",
       "      <td>Big Bad Wolf</td>\n",
       "      <td>648.32</td>\n",
       "      <td>413.000000</td>\n",
       "      <td>AU</td>\n",
       "    </tr>\n",
       "    <tr>\n",
       "      <th>4</th>\n",
       "      <td>2017-05-08 16:41:15.179 UTC</td>\n",
       "      <td>anwksD5xwgAwhRM7STgscMwUQso=</td>\n",
       "      <td>uflQP9PibFEvIwe5GOsVPCkfnc27QwHMXh4Hq+fK4fA=</td>\n",
       "      <td>2</td>\n",
       "      <td>0</td>\n",
       "      <td>COP</td>\n",
       "      <td>Chernabog</td>\n",
       "      <td>NaN</td>\n",
       "      <td>227612.960000</td>\n",
       "      <td>CO</td>\n",
       "    </tr>\n",
       "  </tbody>\n",
       "</table>\n",
       "</div>"
      ],
      "text/plain": [
       "                 received_time                        client  \\\n",
       "0  2018-02-02 15:51:58.156 UTC  nAINDtwooFKqfvvzjrnoGzqsPdM=   \n",
       "1  2017-11-22 09:03:13.943 UTC  j7ooHJKDYPyqCjxYqsXVyUC3Zms=   \n",
       "2  2018-01-09 17:09:06.415 UTC  k2csQHYSQN4LokKeDmC9jKi8lNk=   \n",
       "3  2017-10-30 09:02:54.948 UTC  0exUs3dolgyENIDR+l+Udv59jl4=   \n",
       "4  2017-05-08 16:41:15.179 UTC  anwksD5xwgAwhRM7STgscMwUQso=   \n",
       "\n",
       "                                          hotel  adults  children currency  \\\n",
       "0  g0ZoIj6NwWM6BOZP93yAPOfi/3WM0Rfih2BEAP/V0A8=       2         0      RUB   \n",
       "1  s6/1irGNi4y3iTyvu3xBQvcGMhJObL2MKKLn/NBp4mY=       3         0      THB   \n",
       "2  tljsEqITzJynGBAPhl9xboa24CmWSE7TgLb/Bzh36ok=       2         0      PHP   \n",
       "3  KZxRpRejNobIe/SPIynitk3sFEwc0y+3bWGYuHD7eX4=       1         0      MYR   \n",
       "4  uflQP9PibFEvIwe5GOsVPCkfnc27QwHMXh4Hq+fK4fA=       2         0      COP   \n",
       "\n",
       "            ota  ota_price   direct_price user_country  \n",
       "0  Big Bad Wolf   16533.19   11859.660000           RU  \n",
       "1     Madam Mim    2905.00    2224.299065           SG  \n",
       "2     Madam Mim   11543.00    9200.000000           PH  \n",
       "3  Big Bad Wolf     648.32     413.000000           AU  \n",
       "4     Chernabog        NaN  227612.960000           CO  "
      ]
     },
     "execution_count": 5,
     "metadata": {},
     "output_type": "execute_result"
    }
   ],
   "source": [
    "df.head()"
   ]
  },
  {
   "cell_type": "code",
   "execution_count": 4,
   "metadata": {},
   "outputs": [
    {
     "data": {
      "text/plain": [
       "received_time     object\n",
       "client            object\n",
       "hotel             object\n",
       "adults             int64\n",
       "children           int64\n",
       "currency          object\n",
       "ota               object\n",
       "ota_price        float64\n",
       "direct_price     float64\n",
       "user_country      object\n",
       "dtype: object"
      ]
     },
     "execution_count": 4,
     "metadata": {},
     "output_type": "execute_result"
    }
   ],
   "source": [
    "df.dtypes"
   ]
  },
  {
   "cell_type": "markdown",
   "metadata": {},
   "source": [
    "# Data Preprocessing and Cleaning\n",
    "\n",
    "**NOTE:** For now we will be doing this part on the whole dataset but in practice one should split into train and test and do these steps separately"
   ]
  },
  {
   "cell_type": "markdown",
   "metadata": {},
   "source": [
    "### Convert time columns to datetime\n",
    "\n",
    "Want to convert `received_time` columns into datetime object so we can extract features and plots. This takes a bit long due to large size:"
   ]
  },
  {
   "cell_type": "code",
   "execution_count": 8,
   "metadata": {},
   "outputs": [
    {
     "name": "stdout",
     "output_type": "stream",
     "text": [
      "Run time: 0h:3m:48s\n"
     ]
    }
   ],
   "source": [
    "# Convert datetime col to datetime obj (takes long! :()\n",
    "\n",
    "import time\n",
    "from undercut import print_runtime\n",
    "\n",
    "start_time = time.time()\n",
    "df['received_time'] = pd.to_datetime(df['received_time'])\n",
    "print_runtime(start_time)\n"
   ]
  },
  {
   "cell_type": "markdown",
   "metadata": {},
   "source": [
    "### Missing values\n",
    "\n",
    "We have missing data mainly in `ota_price` - seems it is now always possible to get these prices?\n",
    "\n",
    "Due to time contrains, got rid of these but with more time could try to **impute** them by using, e.g. the mean value per OTA"
   ]
  },
  {
   "cell_type": "code",
   "execution_count": 10,
   "metadata": {},
   "outputs": [
    {
     "data": {
      "text/plain": [
       "received_time         0\n",
       "client                0\n",
       "hotel                 0\n",
       "adults                0\n",
       "children              0\n",
       "currency              0\n",
       "ota                   0\n",
       "ota_price        290261\n",
       "direct_price          0\n",
       "user_country       5763\n",
       "dtype: int64"
      ]
     },
     "execution_count": 10,
     "metadata": {},
     "output_type": "execute_result"
    }
   ],
   "source": [
    "df.isnull().sum()"
   ]
  },
  {
   "cell_type": "code",
   "execution_count": 12,
   "metadata": {},
   "outputs": [
    {
     "data": {
      "text/plain": [
       "(852845, 10)"
      ]
     },
     "execution_count": 12,
     "metadata": {},
     "output_type": "execute_result"
    }
   ],
   "source": [
    "df = df.dropna()\n",
    "df.shape"
   ]
  },
  {
   "cell_type": "markdown",
   "metadata": {},
   "source": [
    "### Currencies to lowercase\n",
    "\n",
    "A few cases have the currency in lowercase and should upper-case it so it doesn't count as a new category:"
   ]
  },
  {
   "cell_type": "code",
   "execution_count": 14,
   "metadata": {},
   "outputs": [
    {
     "name": "stdout",
     "output_type": "stream",
     "text": [
      "132\n"
     ]
    },
    {
     "data": {
      "text/plain": [
       "array(['AED', 'AFN', 'ALL', 'AMD', 'ANG', 'AOA', 'ARS', 'AUD', 'AWG',\n",
       "       'AZN', 'BAM', 'BBD', 'BDT', 'BGN', 'BHD', 'BMD', 'BND', 'BRL',\n",
       "       'BSD', 'BWP', 'BYR', 'CAD', 'CHF', 'CLP', 'CNY', 'COP', 'CRC',\n",
       "       'CVE', 'CYP', 'CZK', 'DJF', 'DKK', 'DOP', 'DZD', 'EGP', 'EUR',\n",
       "       'FJD', 'FKP', 'GBP', 'GIP', 'GNF', 'GTQ', 'HKD', 'HNL', 'HRK',\n",
       "       'HUF', 'IDR', 'ILS', 'INR', 'IQD', 'ISK', 'ITL', 'JOD', 'JPY',\n",
       "       'KES', 'KHR', 'KRW', 'KWD', 'KZT', 'LBP', 'LKR', 'LRD', 'LSL',\n",
       "       'LVL', 'MAD', 'MDL', 'MOP', 'MRO', 'MUR', 'MXN', 'MYR', 'NAD',\n",
       "       'NGN', 'NIO', 'NOK', 'NPR', 'NZD', 'OMR', 'PAB', 'PEN', 'PGK',\n",
       "       'PHP', 'PKR', 'PLN', 'PYG', 'QAR', 'RON', 'RSD', 'RUB', 'SAR',\n",
       "       'SCR', 'SDG', 'SEK', 'SGD', 'SRD', 'THB', 'TMT', 'TND', 'TRY',\n",
       "       'TTD', 'TWD', 'TZS', 'UAH', 'USD', 'UYU', 'VEF', 'VND', 'VUV',\n",
       "       'XAF', 'XCD', 'XOF', 'XPF', 'YER', 'ZAR', 'ars', 'aud', 'bhd',\n",
       "       'brl', 'cad', 'chf', 'eur', 'gbp', 'hkd', 'idr', 'inr', 'jpy',\n",
       "       'krw', 'mxn', 'pln', 'sar', 'sek', 'usd'], dtype=object)"
      ]
     },
     "execution_count": 14,
     "metadata": {},
     "output_type": "execute_result"
    }
   ],
   "source": [
    "# Show unique currencies in dataset\n",
    "l = np.unique(df['currency'])\n",
    "print(len(l))\n",
    "l"
   ]
  },
  {
   "cell_type": "code",
   "execution_count": 16,
   "metadata": {},
   "outputs": [
    {
     "name": "stdout",
     "output_type": "stream",
     "text": [
      "114\n"
     ]
    }
   ],
   "source": [
    "# Get all currencies to upper case so they are not duplicated as cat\n",
    "df['currency'] = df['currency'].apply(lambda x: x.upper())\n",
    "\n",
    "# Check\n",
    "l = np.unique(df['currency'])\n",
    "print(len(l))"
   ]
  },
  {
   "cell_type": "markdown",
   "metadata": {},
   "source": [
    "So we reduced the number of different currencies by 18 :)"
   ]
  },
  {
   "cell_type": "markdown",
   "metadata": {},
   "source": [
    "### Price outliers\n",
    "\n",
    "* Also found quite a few outliers in the `ota_price` and `direct_price` columns. As the target we want to predict will depend on these, I thought it was important to handle them. Due to time constrains, the easiest was to get rid of them. With more time one would investigate on a case by case basis whether it is valid to remove them).\n",
    "\n",
    "\n",
    "* As prices are in different currencies, I applied a systematic approach to get rid of them on a per currency basis by using the IQR 1.5 outlier rule (https://en.wikipedia.org/wiki/Interquartile_range#Outliers)\n",
    "\n",
    "\n",
    "* The function I coded for this looked like this:\n",
    "\n",
    "```python\n",
    "def remove_price_outliers(df, column_name):\n",
    "\n",
    "    # Using IQR * 1.5 methodology\n",
    "    column = df[column_name]\n",
    "    Q1 = column.quantile(0.25)\n",
    "    Q3 = column.quantile(0.75)\n",
    "    IQR = Q3 - Q1\n",
    "    # Exclude cases when prices are 0\n",
    "    filtered = df.query('0 < ' + column_name + ' <= (@Q3 + 1.5 * @IQR)')\n",
    "    # filtered = filtered[filtered[column_name]>0.0]\n",
    "\n",
    "    mask = df.isin(filtered)[column_name]\n",
    "\n",
    "    return ~mask\n",
    "```"
   ]
  },
  {
   "cell_type": "markdown",
   "metadata": {},
   "source": [
    "This is how the price distribution for `currency==USD` looked **before** outlier removal:"
   ]
  },
  {
   "cell_type": "code",
   "execution_count": 22,
   "metadata": {},
   "outputs": [
    {
     "data": {
      "image/png": "[encoded data removed]",
      "text/plain": [
       "<matplotlib.figure.Figure at 0x1a1f73f710>"
      ]
     },
     "metadata": {},
     "output_type": "display_data"
    }
   ],
   "source": [
    "_ = df[df['currency'] == 'USD']['ota_price'].hist(bins=200)\n",
    "_ = plt.title('OTA price for USD price events\\n(nbins=200)')"
   ]
  },
  {
   "cell_type": "markdown",
   "metadata": {},
   "source": [
    "So this histogram is pretty meaningless in this state...."
   ]
  },
  {
   "cell_type": "code",
   "execution_count": 19,
   "metadata": {},
   "outputs": [
    {
     "name": "stdout",
     "output_type": "stream",
     "text": [
      "Before removing outliers:  (852845, 11)\n"
     ]
    }
   ],
   "source": [
    "print('Before removing outliers: ', df.shape)"
   ]
  },
  {
   "cell_type": "markdown",
   "metadata": {},
   "source": [
    "Now let's remove outliers:"
   ]
  },
  {
   "cell_type": "code",
   "execution_count": 18,
   "metadata": {},
   "outputs": [],
   "source": [
    "from undercut import remove_price_outliers\n",
    "\n",
    "# Lots of outliers in the prices on a per currency basis, so will apply a remove procedure based on IQR\n",
    "grouped = df[['currency', 'direct_price', 'ota_price']].groupby('currency')\n",
    "for name, group in grouped:\n",
    "    outlier = (remove_price_outliers(group, 'direct_price')) | (remove_price_outliers(group, 'ota_price'))\n",
    "    df.loc[group.index, 'price_outlier'] = np.where(outlier == 1, 1, 0)\n",
    "\n",
    "# Remove all prices tagged as outlier\n",
    "df = df[df['price_outlier'] != 1]\n",
    "# Remove this column as we no longer need it\n",
    "df = df.drop('price_outlier', axis=1)"
   ]
  },
  {
   "cell_type": "code",
   "execution_count": 24,
   "metadata": {},
   "outputs": [
    {
     "name": "stdout",
     "output_type": "stream",
     "text": [
      "After removing outliers:  (758468, 11)\n"
     ]
    }
   ],
   "source": [
    "print('After removing outliers: ', df.shape)"
   ]
  },
  {
   "cell_type": "markdown",
   "metadata": {},
   "source": [
    "This means outlier removal reduced the dataset by about 11%... but now the data looks much better:"
   ]
  },
  {
   "cell_type": "code",
   "execution_count": 27,
   "metadata": {},
   "outputs": [
    {
     "data": {
      "image/png": "[encoded data removed]",
      "text/plain": [
       "<matplotlib.figure.Figure at 0x1a1ecf9e10>"
      ]
     },
     "metadata": {},
     "output_type": "display_data"
    }
   ],
   "source": [
    "_ = df[df['currency'] == 'USD']['ota_price'].hist(bins=200)\n",
    "_ = plt.title('OTA price for USD price events after outlier removal \\n(nbins=200)')"
   ]
  },
  {
   "cell_type": "markdown",
   "metadata": {},
   "source": [
    "# Defining a currency agnostic target\n",
    "\n",
    "We want to predict undercutting behaviour by OTAs but we have prices in different currencies. Hence we need to define a **currency agnostic** variable which can represent overpricing and underpricing. For this I used the ratio of `ota_price` to `direct_price`, which I call `price_ratio` below, such that:\n",
    "\n",
    "* when `price_ratio` >= 1, OTA is not considered to be undercutting, i.e. OTA is more expensive than hotel\n",
    "* when `price_ratio` < 1, OTA is considered to be undercutting, i.e. OTA is cheaper than hotel"
   ]
  },
  {
   "cell_type": "code",
   "execution_count": 29,
   "metadata": {},
   "outputs": [],
   "source": [
    "# Create currency agnostic measure of disparity which can be used for binary target\n",
    "# (already handled cases of div by zero earlier)\n",
    "df['price_ratio'] = df['ota_price'] / df['direct_price']"
   ]
  },
  {
   "cell_type": "markdown",
   "metadata": {},
   "source": [
    "## Removing outliers (again)"
   ]
  },
  {
   "cell_type": "code",
   "execution_count": 58,
   "metadata": {},
   "outputs": [
    {
     "data": {
      "text/plain": [
       "count    7.584680e+05\n",
       "mean     1.378850e+01\n",
       "std      3.842363e+03\n",
       "min      6.759784e-04\n",
       "25%      1.000000e+00\n",
       "50%      1.033783e+00\n",
       "75%      1.111111e+00\n",
       "max      1.988457e+06\n",
       "Name: price_ratio, dtype: float64"
      ]
     },
     "execution_count": 58,
     "metadata": {},
     "output_type": "execute_result"
    }
   ],
   "source": [
    "# Get some statistics\n",
    "df['price_ratio'].describe()"
   ]
  },
  {
   "cell_type": "markdown",
   "metadata": {},
   "source": [
    "This shows we still have some outliers, despites applying the outlier removal procedure earlier separately on `ota_price` and `direct_price` as 75% of the values are below 1.1, and the max is 6 orders of magnitude bigger!\n",
    "\n",
    "Let's look at this case seaprately:"
   ]
  },
  {
   "cell_type": "code",
   "execution_count": 60,
   "metadata": {},
   "outputs": [
    {
     "data": {
      "text/html": [
       "<div>\n",
       "<style>\n",
       "    .dataframe thead tr:only-child th {\n",
       "        text-align: right;\n",
       "    }\n",
       "\n",
       "    .dataframe thead th {\n",
       "        text-align: left;\n",
       "    }\n",
       "\n",
       "    .dataframe tbody tr th {\n",
       "        vertical-align: top;\n",
       "    }\n",
       "</style>\n",
       "<table border=\"1\" class=\"dataframe\">\n",
       "  <thead>\n",
       "    <tr style=\"text-align: right;\">\n",
       "      <th></th>\n",
       "      <th>received_time</th>\n",
       "      <th>client</th>\n",
       "      <th>hotel</th>\n",
       "      <th>adults</th>\n",
       "      <th>children</th>\n",
       "      <th>currency</th>\n",
       "      <th>ota</th>\n",
       "      <th>ota_price</th>\n",
       "      <th>direct_price</th>\n",
       "      <th>user_country</th>\n",
       "      <th>price_outlier</th>\n",
       "      <th>price_ratio</th>\n",
       "      <th>undercut</th>\n",
       "    </tr>\n",
       "  </thead>\n",
       "  <tbody>\n",
       "    <tr>\n",
       "      <th>720664</th>\n",
       "      <td>2018-01-02 22:58:51.928</td>\n",
       "      <td>GcypXiOmBSKTfKKIEqjvGpUf0FE=</td>\n",
       "      <td>rMXnCOiNfKc21ziBEHWTzWfKPgkkrrpKOEKKJ6NYcwE=</td>\n",
       "      <td>3</td>\n",
       "      <td>0</td>\n",
       "      <td>IDR</td>\n",
       "      <td>Cruella De Vil</td>\n",
       "      <td>4425944.0</td>\n",
       "      <td>2.225818</td>\n",
       "      <td>ID</td>\n",
       "      <td>0.0</td>\n",
       "      <td>1.988457e+06</td>\n",
       "      <td>0</td>\n",
       "    </tr>\n",
       "  </tbody>\n",
       "</table>\n",
       "</div>"
      ],
      "text/plain": [
       "                 received_time                        client  \\\n",
       "720664 2018-01-02 22:58:51.928  GcypXiOmBSKTfKKIEqjvGpUf0FE=   \n",
       "\n",
       "                                               hotel  adults  children  \\\n",
       "720664  rMXnCOiNfKc21ziBEHWTzWfKPgkkrrpKOEKKJ6NYcwE=       3         0   \n",
       "\n",
       "       currency             ota  ota_price  direct_price user_country  \\\n",
       "720664      IDR  Cruella De Vil  4425944.0      2.225818           ID   \n",
       "\n",
       "        price_outlier   price_ratio  undercut  \n",
       "720664            0.0  1.988457e+06         0  "
      ]
     },
     "execution_count": 60,
     "metadata": {},
     "output_type": "execute_result"
    }
   ],
   "source": [
    "df[df['price_ratio'] == df['price_ratio'].max()]"
   ]
  },
  {
   "cell_type": "markdown",
   "metadata": {},
   "source": [
    "Looking at the `ota_price` and `direct_price` for this case we see quite a huge disparity, which makes it more likely it is a true outlier. Given the short time, we will proceed to remove `price_ratio` outliers using the same IQR rule defined above:"
   ]
  },
  {
   "cell_type": "code",
   "execution_count": 67,
   "metadata": {},
   "outputs": [
    {
     "data": {
      "text/plain": [
       "(758468, 13)"
      ]
     },
     "execution_count": 67,
     "metadata": {},
     "output_type": "execute_result"
    }
   ],
   "source": [
    "df.shape"
   ]
  },
  {
   "cell_type": "code",
   "execution_count": 68,
   "metadata": {},
   "outputs": [
    {
     "data": {
      "text/plain": [
       "(691697, 13)"
      ]
     },
     "execution_count": 68,
     "metadata": {},
     "output_type": "execute_result"
    }
   ],
   "source": [
    "# Remove outliers in price_ratio\n",
    "outlier = remove_price_outliers(df, 'price_ratio')\n",
    "df = df[~outlier]\n",
    "df.shape"
   ]
  },
  {
   "cell_type": "markdown",
   "metadata": {},
   "source": [
    "This removed about 8.8% of the rows."
   ]
  },
  {
   "cell_type": "code",
   "execution_count": 73,
   "metadata": {},
   "outputs": [
    {
     "data": {
      "text/plain": [
       "count    691697.000000\n",
       "mean          1.036566\n",
       "std           0.098489\n",
       "min           0.000676\n",
       "25%           1.000000\n",
       "50%           1.025137\n",
       "75%           1.067945\n",
       "max           1.277770\n",
       "Name: price_ratio, dtype: float64"
      ]
     },
     "execution_count": 73,
     "metadata": {},
     "output_type": "execute_result"
    }
   ],
   "source": [
    "# Get some statistics\n",
    "df['price_ratio'].describe()"
   ]
  },
  {
   "cell_type": "markdown",
   "metadata": {},
   "source": [
    "This now looks better! :)"
   ]
  },
  {
   "cell_type": "code",
   "execution_count": 86,
   "metadata": {},
   "outputs": [
    {
     "data": {
      "text/plain": [
       "<matplotlib.text.Text at 0x1a3b27ecf8>"
      ]
     },
     "execution_count": 86,
     "metadata": {},
     "output_type": "execute_result"
    },
    {
     "data": {
      "image/png": "[encoded data removed]",
      "text/plain": [
       "<matplotlib.figure.Figure at 0x1a3b21df28>"
      ]
     },
     "metadata": {},
     "output_type": "display_data"
    }
   ],
   "source": [
    "# mask = df['price_ratio'] > 0.8\n",
    "# df[mask]['price_ratio'].hist(bins=0)\n",
    "df['price_ratio'].hist(bins=50)\n",
    "plt.axvline(x=1.0, color='red', linestyle='--')\n",
    "plt.title('price_ratio distribution')"
   ]
  },
  {
   "cell_type": "markdown",
   "metadata": {},
   "source": [
    "From above we observe this distribution is very different to a normal distribution!\n",
    "\n",
    "* Undercutting events are a lot less common than overpricing ones. Also these seem to have a wider range of values than overpricing, which are fairly small - when OTAs overprice, these seem to be mostly ~6-7% above the hotel direct price\n",
    "* Most of the price differences are small, hence why we see the peak close to 1\n"
   ]
  },
  {
   "cell_type": "markdown",
   "metadata": {},
   "source": [
    "## Binarizing the target"
   ]
  },
  {
   "cell_type": "markdown",
   "metadata": {},
   "source": [
    "As for the target, we could use directly `price_ratio` if we chose a `LinearRegression` model to predict numerical values. However, this is a harder task in ML to get right than bucketing the range of values to a **binary target**. So in the interest of time, here we will go for this approach to use a supervised binary classification model like **Logistic Regression.**"
   ]
  },
  {
   "cell_type": "code",
   "execution_count": 30,
   "metadata": {},
   "outputs": [],
   "source": [
    "# This will be the binary target in our classifier\n",
    "df['undercut'] = np.where(df['price_ratio'] < 1, 1, 0)\n"
   ]
  },
  {
   "cell_type": "markdown",
   "metadata": {},
   "source": [
    "This is how this now looks:"
   ]
  },
  {
   "cell_type": "code",
   "execution_count": 87,
   "metadata": {},
   "outputs": [
    {
     "data": {
      "image/png": "[encoded data removed]",
      "text/plain": [
       "<matplotlib.figure.Figure at 0x1a3b429320>"
      ]
     },
     "metadata": {},
     "output_type": "display_data"
    }
   ],
   "source": [
    "ax = pd.DataFrame(df['undercut'].value_counts()).T.plot(kind='bar', stacked=True, figsize=(7, 5))\n",
    "_ = ax.set_xticklabels([])\n",
    "plt.legend(['not undercut', 'undercut'])\n",
    "\n",
    "for p in ax.patches:\n",
    "    p_height = p.get_height()\n",
    "    pct = (1 - p_height / df.shape[0]) * 100\n",
    "    ax.annotate('{:.1f}%'.format(pct), (p.get_x(), p_height))\n",
    "    \n",
    "_ = plt.title('price_ratio binary target balance in data')"
   ]
  },
  {
   "cell_type": "markdown",
   "metadata": {},
   "source": [
    "## Class imbalance\n",
    "\n",
    "The bar chart above shows we have only 11.6% of cases when the OTA undercut, which is very little in size wrt to the dataset size. We are after all aiming to predict when an OTA undercuts and models would perform poorly if fed such imbalanced dataset as they would mainly end up predicting the 'majority class'. There are many ways to deal with this problem, such as:\n",
    "\n",
    "* Downsampling majority class\n",
    "* Upsampling minority class\n",
    "* Optimising on recall or F1\n",
    "\n",
    "Here I chose the fastest, which was downsampling"
   ]
  },
  {
   "cell_type": "markdown",
   "metadata": {},
   "source": [
    "### Downsampling\n",
    "\n",
    "The idea is to randomly sample without replacement from the majority class (i.e. the class with more observations) to create a new subset of observation equal in size to the minority class."
   ]
  },
  {
   "cell_type": "code",
   "execution_count": 88,
   "metadata": {},
   "outputs": [
    {
     "data": {
      "text/plain": [
       "(691697, 13)"
      ]
     },
     "execution_count": 88,
     "metadata": {},
     "output_type": "execute_result"
    }
   ],
   "source": [
    "# Before downsampling\n",
    "df.shape"
   ]
  },
  {
   "cell_type": "code",
   "execution_count": 89,
   "metadata": {},
   "outputs": [
    {
     "name": "stdout",
     "output_type": "stream",
     "text": [
      "After downsampling:  (175812, 14)\n",
      "New class balance: 1    87906\n",
      "0    87906\n",
      "Name: undercut, dtype: int64\n"
     ]
    }
   ],
   "source": [
    "from sklearn.utils import resample\n",
    "\n",
    "# Separate majority and minority classes\n",
    "df_majority = df[df['undercut'] == 0]\n",
    "df_minority = df[df['undercut'] == 1]\n",
    "\n",
    "# Downsample majority class\n",
    "df_majority_downsampled = resample(df_majority,\n",
    "                                   replace=False,  # sample without replacement\n",
    "                                   n_samples=df_minority.shape[0],  # to match minority class\n",
    "                                   random_state=0)  # reproducible results\n",
    "\n",
    "# Combine minority class with downsampled majority class\n",
    "df = pd.concat([df_majority_downsampled, df_minority])\n",
    "\n",
    "# Reset index since we removed lots of rows\n",
    "df = df.reset_index(drop=True)\n",
    "\n",
    "# Display new class counts\n",
    "print('After downsampling: ', df.shape)\n",
    "print('New class balance:', df['undercut'].value_counts())"
   ]
  },
  {
   "cell_type": "code",
   "execution_count": 90,
   "metadata": {},
   "outputs": [
    {
     "data": {
      "image/png": "[encoded data removed]",
      "text/plain": [
       "<matplotlib.figure.Figure at 0x1a3b67e940>"
      ]
     },
     "metadata": {},
     "output_type": "display_data"
    }
   ],
   "source": [
    "ax = pd.DataFrame(df['undercut'].value_counts()).T.plot(kind='bar', stacked=True, figsize=(7, 5))\n",
    "_ = ax.set_xticklabels([])\n",
    "plt.legend(['not undercut', 'undercut'])\n",
    "\n",
    "for p in ax.patches:\n",
    "    p_height = p.get_height()\n",
    "    pct = (1 - p_height / df.shape[0]) * 100\n",
    "    ax.annotate('{:.1f}%'.format(pct), (p.get_x(), p_height))\n",
    "    \n",
    "_ = plt.title('price_ratio binary target balance in data')"
   ]
  },
  {
   "cell_type": "markdown",
   "metadata": {},
   "source": [
    "Nicely now we see both targets well balanced and that we still have a decent sample of ~90k each and can proceed to feature engineering"
   ]
  },
  {
   "cell_type": "markdown",
   "metadata": {},
   "source": [
    "# Feature Engineering"
   ]
  },
  {
   "cell_type": "markdown",
   "metadata": {},
   "source": [
    "## Original Features"
   ]
  },
  {
   "cell_type": "markdown",
   "metadata": {},
   "source": [
    "Before moving on to building new features, let's look at what we have in the original dataset:"
   ]
  },
  {
   "cell_type": "code",
   "execution_count": 93,
   "metadata": {},
   "outputs": [
    {
     "data": {
      "text/html": [
       "<div>\n",
       "<style>\n",
       "    .dataframe thead tr:only-child th {\n",
       "        text-align: right;\n",
       "    }\n",
       "\n",
       "    .dataframe thead th {\n",
       "        text-align: left;\n",
       "    }\n",
       "\n",
       "    .dataframe tbody tr th {\n",
       "        vertical-align: top;\n",
       "    }\n",
       "</style>\n",
       "<table border=\"1\" class=\"dataframe\">\n",
       "  <thead>\n",
       "    <tr style=\"text-align: right;\">\n",
       "      <th></th>\n",
       "      <th>received_time</th>\n",
       "      <th>client</th>\n",
       "      <th>hotel</th>\n",
       "      <th>adults</th>\n",
       "      <th>children</th>\n",
       "      <th>currency</th>\n",
       "      <th>ota</th>\n",
       "      <th>ota_price</th>\n",
       "      <th>direct_price</th>\n",
       "      <th>user_country</th>\n",
       "      <th>price_outlier</th>\n",
       "      <th>price_ratio</th>\n",
       "      <th>undercut</th>\n",
       "    </tr>\n",
       "  </thead>\n",
       "  <tbody>\n",
       "    <tr>\n",
       "      <th>0</th>\n",
       "      <td>2018-01-01 02:06:42.849</td>\n",
       "      <td>aiaEq6v17KFy5hgbXm3p+PpunB0=</td>\n",
       "      <td>8BrGJ743dm34rvKlQi15g44bB11FzBTCOBhVJubdBPg=</td>\n",
       "      <td>2</td>\n",
       "      <td>0</td>\n",
       "      <td>USD</td>\n",
       "      <td>Queen Grimhilde</td>\n",
       "      <td>182.34</td>\n",
       "      <td>182.33</td>\n",
       "      <td>US</td>\n",
       "      <td>0.0</td>\n",
       "      <td>1.000055</td>\n",
       "      <td>0</td>\n",
       "    </tr>\n",
       "    <tr>\n",
       "      <th>1</th>\n",
       "      <td>2017-12-30 21:15:08.849</td>\n",
       "      <td>gcGfvv2VvcnJnCg8l0qmzbjZwNQ=</td>\n",
       "      <td>hcWTO2KAyOcHIpEZstjinG+Ke/ywcLPEPsNVID6Uw5Y=</td>\n",
       "      <td>2</td>\n",
       "      <td>0</td>\n",
       "      <td>USD</td>\n",
       "      <td>Captain Hook</td>\n",
       "      <td>149.00</td>\n",
       "      <td>129.00</td>\n",
       "      <td>US</td>\n",
       "      <td>0.0</td>\n",
       "      <td>1.155039</td>\n",
       "      <td>0</td>\n",
       "    </tr>\n",
       "    <tr>\n",
       "      <th>2</th>\n",
       "      <td>2017-10-30 03:11:32.375</td>\n",
       "      <td>nsO1uU2LCivSU67XOLL+492KWgc=</td>\n",
       "      <td>SeBtiVdg1cdgtX0JFhDXAwHcCBrBoVL8+daLGeTzIOU=</td>\n",
       "      <td>2</td>\n",
       "      <td>0</td>\n",
       "      <td>AUD</td>\n",
       "      <td>Hades</td>\n",
       "      <td>142.00</td>\n",
       "      <td>115.50</td>\n",
       "      <td>AU</td>\n",
       "      <td>0.0</td>\n",
       "      <td>1.229437</td>\n",
       "      <td>0</td>\n",
       "    </tr>\n",
       "    <tr>\n",
       "      <th>3</th>\n",
       "      <td>2017-03-06 09:31:15.401</td>\n",
       "      <td>rRnrT8R6lIzQM3Xw6rGKoNCvynY=</td>\n",
       "      <td>5yKTx4/mORQiEb8RBGPK8R+DIbY7H1S4XHZBBmlvGpM=</td>\n",
       "      <td>4</td>\n",
       "      <td>0</td>\n",
       "      <td>USD</td>\n",
       "      <td>Captain Hook</td>\n",
       "      <td>224.99</td>\n",
       "      <td>216.00</td>\n",
       "      <td>DE</td>\n",
       "      <td>0.0</td>\n",
       "      <td>1.041620</td>\n",
       "      <td>0</td>\n",
       "    </tr>\n",
       "    <tr>\n",
       "      <th>4</th>\n",
       "      <td>2017-11-15 00:54:48.803</td>\n",
       "      <td>rRnrT8R6lIzQM3Xw6rGKoNCvynY=</td>\n",
       "      <td>JHkYh12hoJuvy2UX59JAr1IjGGj+dbqqojP3cnTQfAg=</td>\n",
       "      <td>1</td>\n",
       "      <td>0</td>\n",
       "      <td>CAD</td>\n",
       "      <td>Queen Grimhilde</td>\n",
       "      <td>153.64</td>\n",
       "      <td>150.43</td>\n",
       "      <td>CA</td>\n",
       "      <td>0.0</td>\n",
       "      <td>1.021339</td>\n",
       "      <td>0</td>\n",
       "    </tr>\n",
       "  </tbody>\n",
       "</table>\n",
       "</div>"
      ],
      "text/plain": [
       "            received_time                        client  \\\n",
       "0 2018-01-01 02:06:42.849  aiaEq6v17KFy5hgbXm3p+PpunB0=   \n",
       "1 2017-12-30 21:15:08.849  gcGfvv2VvcnJnCg8l0qmzbjZwNQ=   \n",
       "2 2017-10-30 03:11:32.375  nsO1uU2LCivSU67XOLL+492KWgc=   \n",
       "3 2017-03-06 09:31:15.401  rRnrT8R6lIzQM3Xw6rGKoNCvynY=   \n",
       "4 2017-11-15 00:54:48.803  rRnrT8R6lIzQM3Xw6rGKoNCvynY=   \n",
       "\n",
       "                                          hotel  adults  children currency  \\\n",
       "0  8BrGJ743dm34rvKlQi15g44bB11FzBTCOBhVJubdBPg=       2         0      USD   \n",
       "1  hcWTO2KAyOcHIpEZstjinG+Ke/ywcLPEPsNVID6Uw5Y=       2         0      USD   \n",
       "2  SeBtiVdg1cdgtX0JFhDXAwHcCBrBoVL8+daLGeTzIOU=       2         0      AUD   \n",
       "3  5yKTx4/mORQiEb8RBGPK8R+DIbY7H1S4XHZBBmlvGpM=       4         0      USD   \n",
       "4  JHkYh12hoJuvy2UX59JAr1IjGGj+dbqqojP3cnTQfAg=       1         0      CAD   \n",
       "\n",
       "               ota  ota_price  direct_price user_country  price_outlier  \\\n",
       "0  Queen Grimhilde     182.34        182.33           US            0.0   \n",
       "1     Captain Hook     149.00        129.00           US            0.0   \n",
       "2            Hades     142.00        115.50           AU            0.0   \n",
       "3     Captain Hook     224.99        216.00           DE            0.0   \n",
       "4  Queen Grimhilde     153.64        150.43           CA            0.0   \n",
       "\n",
       "   price_ratio  undercut  \n",
       "0     1.000055         0  \n",
       "1     1.155039         0  \n",
       "2     1.229437         0  \n",
       "3     1.041620         0  \n",
       "4     1.021339         0  "
      ]
     },
     "execution_count": 93,
     "metadata": {},
     "output_type": "execute_result"
    }
   ],
   "source": [
    "df.head()"
   ]
  },
  {
   "cell_type": "markdown",
   "metadata": {},
   "source": [
    "We have a mixture of categorical and numerical values. Let's first cast the categorical as `pandas` categories.\n",
    "\n",
    "Also I will replace the `client` and `hotel` hash key values with numbers so they are more compact visually. "
   ]
  },
  {
   "cell_type": "code",
   "execution_count": 94,
   "metadata": {},
   "outputs": [],
   "source": [
    "# Cast relevant cols as category type\n",
    "cats = ['client', 'hotel', 'currency', 'ota', 'user_country']\n",
    "for cat in cats:\n",
    "    df[cat] = df[cat].astype('category')\n",
    "\n",
    "# Rename long client and hotel cats for just numbers\n",
    "for col in ['client', 'hotel']:\n",
    "    n_col = np.unique(df[col])\n",
    "    df[col] = df[col].cat.rename_categories(np.arange(1, n_col.shape[0] + 1))\n"
   ]
  },
  {
   "cell_type": "code",
   "execution_count": 105,
   "metadata": {},
   "outputs": [
    {
     "data": {
      "text/html": [
       "<div>\n",
       "<style>\n",
       "    .dataframe thead tr:only-child th {\n",
       "        text-align: right;\n",
       "    }\n",
       "\n",
       "    .dataframe thead th {\n",
       "        text-align: left;\n",
       "    }\n",
       "\n",
       "    .dataframe tbody tr th {\n",
       "        vertical-align: top;\n",
       "    }\n",
       "</style>\n",
       "<table border=\"1\" class=\"dataframe\">\n",
       "  <thead>\n",
       "    <tr style=\"text-align: right;\">\n",
       "      <th></th>\n",
       "      <th>received_time</th>\n",
       "      <th>client</th>\n",
       "      <th>hotel</th>\n",
       "      <th>adults</th>\n",
       "      <th>children</th>\n",
       "      <th>currency</th>\n",
       "      <th>ota</th>\n",
       "      <th>ota_price</th>\n",
       "      <th>direct_price</th>\n",
       "      <th>user_country</th>\n",
       "      <th>price_ratio</th>\n",
       "      <th>undercut</th>\n",
       "    </tr>\n",
       "  </thead>\n",
       "  <tbody>\n",
       "    <tr>\n",
       "      <th>134087</th>\n",
       "      <td>2018-01-31 21:15:18.816</td>\n",
       "      <td>169</td>\n",
       "      <td>2637</td>\n",
       "      <td>2</td>\n",
       "      <td>0</td>\n",
       "      <td>USD</td>\n",
       "      <td>Captain Hook</td>\n",
       "      <td>85.99</td>\n",
       "      <td>94.99</td>\n",
       "      <td>US</td>\n",
       "      <td>0.905253</td>\n",
       "      <td>1</td>\n",
       "    </tr>\n",
       "    <tr>\n",
       "      <th>67267</th>\n",
       "      <td>2018-01-03 20:03:45.079</td>\n",
       "      <td>382</td>\n",
       "      <td>2794</td>\n",
       "      <td>2</td>\n",
       "      <td>0</td>\n",
       "      <td>USD</td>\n",
       "      <td>Hades</td>\n",
       "      <td>156.08</td>\n",
       "      <td>149.76</td>\n",
       "      <td>US</td>\n",
       "      <td>1.042201</td>\n",
       "      <td>0</td>\n",
       "    </tr>\n",
       "    <tr>\n",
       "      <th>89848</th>\n",
       "      <td>2018-02-03 06:31:37.573</td>\n",
       "      <td>1215</td>\n",
       "      <td>4971</td>\n",
       "      <td>2</td>\n",
       "      <td>0</td>\n",
       "      <td>ZAR</td>\n",
       "      <td>Hades</td>\n",
       "      <td>1618.49</td>\n",
       "      <td>1900.00</td>\n",
       "      <td>ZA</td>\n",
       "      <td>0.851837</td>\n",
       "      <td>1</td>\n",
       "    </tr>\n",
       "    <tr>\n",
       "      <th>44162</th>\n",
       "      <td>2017-11-29 01:39:18.104</td>\n",
       "      <td>689</td>\n",
       "      <td>2599</td>\n",
       "      <td>1</td>\n",
       "      <td>0</td>\n",
       "      <td>USD</td>\n",
       "      <td>Captain Hook</td>\n",
       "      <td>119.20</td>\n",
       "      <td>111.75</td>\n",
       "      <td>US</td>\n",
       "      <td>1.066667</td>\n",
       "      <td>0</td>\n",
       "    </tr>\n",
       "    <tr>\n",
       "      <th>140165</th>\n",
       "      <td>2017-11-12 14:27:33.764</td>\n",
       "      <td>719</td>\n",
       "      <td>6734</td>\n",
       "      <td>1</td>\n",
       "      <td>0</td>\n",
       "      <td>CAD</td>\n",
       "      <td>Cruella De Vil</td>\n",
       "      <td>119.00</td>\n",
       "      <td>122.40</td>\n",
       "      <td>CA</td>\n",
       "      <td>0.972222</td>\n",
       "      <td>1</td>\n",
       "    </tr>\n",
       "  </tbody>\n",
       "</table>\n",
       "</div>"
      ],
      "text/plain": [
       "                 received_time client hotel  adults  children currency  \\\n",
       "134087 2018-01-31 21:15:18.816    169  2637       2         0      USD   \n",
       "67267  2018-01-03 20:03:45.079    382  2794       2         0      USD   \n",
       "89848  2018-02-03 06:31:37.573   1215  4971       2         0      ZAR   \n",
       "44162  2017-11-29 01:39:18.104    689  2599       1         0      USD   \n",
       "140165 2017-11-12 14:27:33.764    719  6734       1         0      CAD   \n",
       "\n",
       "                   ota  ota_price  direct_price user_country  price_ratio  \\\n",
       "134087    Captain Hook      85.99         94.99           US     0.905253   \n",
       "67267            Hades     156.08        149.76           US     1.042201   \n",
       "89848            Hades    1618.49       1900.00           ZA     0.851837   \n",
       "44162     Captain Hook     119.20        111.75           US     1.066667   \n",
       "140165  Cruella De Vil     119.00        122.40           CA     0.972222   \n",
       "\n",
       "        undercut  \n",
       "134087         1  \n",
       "67267          0  \n",
       "89848          1  \n",
       "44162          0  \n",
       "140165         1  "
      ]
     },
     "execution_count": 105,
     "metadata": {},
     "output_type": "execute_result"
    }
   ],
   "source": [
    "df.sample(5)"
   ]
  },
  {
   "cell_type": "code",
   "execution_count": 104,
   "metadata": {},
   "outputs": [
    {
     "data": {
      "text/plain": [
       "received_time    datetime64[ns]\n",
       "client                 category\n",
       "hotel                  category\n",
       "adults                    int64\n",
       "children                  int64\n",
       "currency               category\n",
       "ota                    category\n",
       "ota_price               float64\n",
       "direct_price            float64\n",
       "user_country           category\n",
       "price_ratio             float64\n",
       "undercut                  int64\n",
       "dtype: object"
      ]
     },
     "execution_count": 104,
     "metadata": {},
     "output_type": "execute_result"
    }
   ],
   "source": [
    "df.dtypes"
   ]
  },
  {
   "cell_type": "markdown",
   "metadata": {},
   "source": [
    "From the above columns the below table shows what can be used as a feature and the type, as well as if a transformation is required:   \n",
    "\n",
    "\n",
    "**Type**|**column**|**Feature?**|**Target?**|**Transformation required?**|**Note**\n",
    ":-----:|:-----:|:-----:|:-----:|:-----:|:-----:\n",
    "Numerical |adults|✔| | |can be used as is\n",
    " |children|✔| | |can be used as is\n",
    " |ota\\_price|✗| | |linked directly to the target\n",
    " |direct\\_price|✔| |✔|assuming this is known before ota\\_price, must scale to be comparable across currencies\n",
    " |price\\_ratio|✗| | |linked directly to the target\n",
    " |undercut|✗|✔| |this is the target (binary form)\n",
    "Categorical |received\\_time|✔| |✔|cyclic nature and linear trends\n",
    "|client|✔| |✔|create feature from aggregation\n",
    " |hotel|✔| |✔|create feature from aggregation\n",
    " |currency|✔| |✔|requires binning and one-hot encoding\n",
    " |ota|✔| |✔|requires binning and one-hot encoding\n",
    " |user\\_country|✔| |✔|requires binning and one-hot encoding\n",
    " \n",
    " \n",
    " So all the categorical ones need to be transformed to numerical features somehow. \n",
    " Let's then start by making the required transformations then!"
   ]
  },
  {
   "cell_type": "code",
   "execution_count": 107,
   "metadata": {},
   "outputs": [
    {
     "data": {
      "text/html": [
       "<div>\n",
       "<style>\n",
       "    .dataframe thead tr:only-child th {\n",
       "        text-align: right;\n",
       "    }\n",
       "\n",
       "    .dataframe thead th {\n",
       "        text-align: left;\n",
       "    }\n",
       "\n",
       "    .dataframe tbody tr th {\n",
       "        vertical-align: top;\n",
       "    }\n",
       "</style>\n",
       "<table border=\"1\" class=\"dataframe\">\n",
       "  <thead>\n",
       "    <tr style=\"text-align: right;\">\n",
       "      <th></th>\n",
       "      <th>client</th>\n",
       "      <th>hotel</th>\n",
       "      <th>currency</th>\n",
       "      <th>ota</th>\n",
       "      <th>user_country</th>\n",
       "    </tr>\n",
       "  </thead>\n",
       "  <tbody>\n",
       "    <tr>\n",
       "      <th>count</th>\n",
       "      <td>175812</td>\n",
       "      <td>175812</td>\n",
       "      <td>175812</td>\n",
       "      <td>175812</td>\n",
       "      <td>175812</td>\n",
       "    </tr>\n",
       "    <tr>\n",
       "      <th>unique</th>\n",
       "      <td>2198</td>\n",
       "      <td>13863</td>\n",
       "      <td>92</td>\n",
       "      <td>14</td>\n",
       "      <td>193</td>\n",
       "    </tr>\n",
       "    <tr>\n",
       "      <th>top</th>\n",
       "      <td>1893</td>\n",
       "      <td>10491</td>\n",
       "      <td>USD</td>\n",
       "      <td>Hades</td>\n",
       "      <td>US</td>\n",
       "    </tr>\n",
       "    <tr>\n",
       "      <th>freq</th>\n",
       "      <td>16822</td>\n",
       "      <td>4151</td>\n",
       "      <td>101054</td>\n",
       "      <td>48866</td>\n",
       "      <td>69039</td>\n",
       "    </tr>\n",
       "  </tbody>\n",
       "</table>\n",
       "</div>"
      ],
      "text/plain": [
       "        client   hotel currency     ota user_country\n",
       "count   175812  175812   175812  175812       175812\n",
       "unique    2198   13863       92      14          193\n",
       "top       1893   10491      USD   Hades           US\n",
       "freq     16822    4151   101054   48866        69039"
      ]
     },
     "execution_count": 107,
     "metadata": {},
     "output_type": "execute_result"
    }
   ],
   "source": [
    "df[cats].describe()"
   ]
  },
  {
   "cell_type": "markdown",
   "metadata": {},
   "source": [
    "* Dominant OTA in data: Hades\n",
    "* Dominant country and currency in data: US and USD\n",
    "* A client can have more than 1 hotel"
   ]
  },
  {
   "cell_type": "markdown",
   "metadata": {},
   "source": [
    "### Rescaling direct_price\n",
    "\n",
    "We do this so it's comparable across currencies. For this we use `sklearn`'s `MinMaxScaler` which will scale the prices for each currency to be between 0 and 1"
   ]
  },
  {
   "cell_type": "code",
   "execution_count": 110,
   "metadata": {},
   "outputs": [
    {
     "data": {
      "text/plain": [
       "205.31238314543504"
      ]
     },
     "execution_count": 110,
     "metadata": {},
     "output_type": "execute_result"
    }
   ],
   "source": [
    "# Before scaling, this is the mean for USD prices\n",
    "df[df['currency'] == 'USD']['direct_price'].mean()"
   ]
  },
  {
   "cell_type": "code",
   "execution_count": 112,
   "metadata": {},
   "outputs": [
    {
     "data": {
      "text/plain": [
       "36174.24370032905"
      ]
     },
     "execution_count": 112,
     "metadata": {},
     "output_type": "execute_result"
    }
   ],
   "source": [
    "# Before scaling, this is the mean for Japanese Yen prices\n",
    "df[df['currency'] == 'JPY']['direct_price'].mean()"
   ]
  },
  {
   "cell_type": "markdown",
   "metadata": {},
   "source": [
    "Clearly we can have order of magnitude differences across currencies"
   ]
  },
  {
   "cell_type": "code",
   "execution_count": 113,
   "metadata": {},
   "outputs": [],
   "source": [
    "from sklearn import preprocessing\n",
    "\n",
    "# Rescale the direct price (Note again we are doing this on the whole set instead of train, which is cheating)\n",
    "min_max_scaler = preprocessing.MinMaxScaler()\n",
    "grouped = df[['currency', 'direct_price']].groupby('currency')\n",
    "for name, group in grouped:\n",
    "    df.loc[group.index, 'direct_price_scaled'] = min_max_scaler.fit_transform(group[['direct_price']])\n"
   ]
  },
  {
   "cell_type": "code",
   "execution_count": 115,
   "metadata": {},
   "outputs": [
    {
     "data": {
      "text/plain": [
       "0.36184187831701964"
      ]
     },
     "execution_count": 115,
     "metadata": {},
     "output_type": "execute_result"
    }
   ],
   "source": [
    "# After scaling, this is the mean for USD prices\n",
    "df[df['currency'] == 'USD']['direct_price_scaled'].mean()"
   ]
  },
  {
   "cell_type": "code",
   "execution_count": 116,
   "metadata": {},
   "outputs": [
    {
     "data": {
      "text/plain": [
       "0.43269116460237805"
      ]
     },
     "execution_count": 116,
     "metadata": {},
     "output_type": "execute_result"
    }
   ],
   "source": [
    "# Before scaling, this is the mean for Japanese Yen prices\n",
    "df[df['currency'] == 'JPY']['direct_price_scaled'].mean()"
   ]
  },
  {
   "cell_type": "markdown",
   "metadata": {},
   "source": [
    "That's now better and we can use it as a feature!"
   ]
  },
  {
   "cell_type": "markdown",
   "metadata": {},
   "source": [
    "### Time features\n",
    "\n",
    "We can derive these from the `received_time` column by extracting the year, month, weekday. However months and weekdays are cyclical, so these are better handled by calculating the sin and cos component so that you represent your cyclical feature as (x,y) coordinates of a circle. In this representation hour, 23 and hour 0 are right next to each other numerically, just as they should be.\n",
    "\n",
    "Note however tha year is non-cyclic, so we don't apply this transformation to years - we just simply rebase them to represent number of years transcurred."
   ]
  },
  {
   "cell_type": "code",
   "execution_count": 117,
   "metadata": {},
   "outputs": [],
   "source": [
    "# Re-index to received_time so can groupby time and create time features quickly from this\n",
    "# Note: this is faster than applying lambda func over all rows to get hour, weekday, month and year\n",
    "temp = df[['received_time']].copy()\n",
    "temp.index = temp['received_time']\n",
    "\n",
    "# Cyclic time - get sine and cosine\n",
    "df['h'] = temp.index.hour\n",
    "df['w'] = temp.index.weekday\n",
    "df['m'] = temp.index.month\n",
    "# Hours numbered 0-23\n",
    "df['h_sin'] = np.sin(df['h'] * (2. * np.pi / 24))\n",
    "df['h_cos'] = np.cos(df['h'] * (2. * np.pi / 24))\n",
    "# Weeks numbered 0-6\n",
    "df['w_sin'] = np.sin(df['w'] * (2. * np.pi / 7))\n",
    "df['w_cos'] = np.cos(df['w'] * (2. * np.pi / 7))\n",
    "# Months numbered 1-12, hence we subtract 1\n",
    "df['m_sin'] = np.sin((df['m'] - 1) * (2. * np.pi / 12))\n",
    "df['m_cos'] = np.cos((df['m'] - 1) * (2. * np.pi / 12))\n",
    "\n",
    "# Non-cyclic time\n",
    "\n",
    "# Years\n",
    "df['yr'] = temp.index.year\n",
    "# Rebase years\n",
    "df['yr_r'] = np.max(df['yr']) - df['yr']"
   ]
  },
  {
   "cell_type": "markdown",
   "metadata": {},
   "source": [
    "And this is how they look for hours for example:"
   ]
  },
  {
   "cell_type": "code",
   "execution_count": 9,
   "metadata": {},
   "outputs": [
    {
     "data": {
      "text/html": [
       "<div>\n",
       "<style>\n",
       "    .dataframe thead tr:only-child th {\n",
       "        text-align: right;\n",
       "    }\n",
       "\n",
       "    .dataframe thead th {\n",
       "        text-align: left;\n",
       "    }\n",
       "\n",
       "    .dataframe tbody tr th {\n",
       "        vertical-align: top;\n",
       "    }\n",
       "</style>\n",
       "<table border=\"1\" class=\"dataframe\">\n",
       "  <thead>\n",
       "    <tr style=\"text-align: right;\">\n",
       "      <th></th>\n",
       "      <th>h</th>\n",
       "      <th>h_sin</th>\n",
       "      <th>h_cos</th>\n",
       "    </tr>\n",
       "  </thead>\n",
       "  <tbody>\n",
       "    <tr>\n",
       "      <th>11506</th>\n",
       "      <td>4</td>\n",
       "      <td>8.660254e-01</td>\n",
       "      <td>0.500000</td>\n",
       "    </tr>\n",
       "    <tr>\n",
       "      <th>167110</th>\n",
       "      <td>2</td>\n",
       "      <td>5.000000e-01</td>\n",
       "      <td>0.866025</td>\n",
       "    </tr>\n",
       "    <tr>\n",
       "      <th>164993</th>\n",
       "      <td>20</td>\n",
       "      <td>-8.660254e-01</td>\n",
       "      <td>0.500000</td>\n",
       "    </tr>\n",
       "    <tr>\n",
       "      <th>94217</th>\n",
       "      <td>17</td>\n",
       "      <td>-9.659258e-01</td>\n",
       "      <td>-0.258819</td>\n",
       "    </tr>\n",
       "    <tr>\n",
       "      <th>169674</th>\n",
       "      <td>23</td>\n",
       "      <td>-2.588190e-01</td>\n",
       "      <td>0.965926</td>\n",
       "    </tr>\n",
       "    <tr>\n",
       "      <th>354</th>\n",
       "      <td>15</td>\n",
       "      <td>-7.071068e-01</td>\n",
       "      <td>-0.707107</td>\n",
       "    </tr>\n",
       "    <tr>\n",
       "      <th>59280</th>\n",
       "      <td>16</td>\n",
       "      <td>-8.660254e-01</td>\n",
       "      <td>-0.500000</td>\n",
       "    </tr>\n",
       "    <tr>\n",
       "      <th>67737</th>\n",
       "      <td>12</td>\n",
       "      <td>1.224647e-16</td>\n",
       "      <td>-1.000000</td>\n",
       "    </tr>\n",
       "    <tr>\n",
       "      <th>57324</th>\n",
       "      <td>22</td>\n",
       "      <td>-5.000000e-01</td>\n",
       "      <td>0.866025</td>\n",
       "    </tr>\n",
       "    <tr>\n",
       "      <th>80368</th>\n",
       "      <td>0</td>\n",
       "      <td>0.000000e+00</td>\n",
       "      <td>1.000000</td>\n",
       "    </tr>\n",
       "  </tbody>\n",
       "</table>\n",
       "</div>"
      ],
      "text/plain": [
       "         h         h_sin     h_cos\n",
       "11506    4  8.660254e-01  0.500000\n",
       "167110   2  5.000000e-01  0.866025\n",
       "164993  20 -8.660254e-01  0.500000\n",
       "94217   17 -9.659258e-01 -0.258819\n",
       "169674  23 -2.588190e-01  0.965926\n",
       "354     15 -7.071068e-01 -0.707107\n",
       "59280   16 -8.660254e-01 -0.500000\n",
       "67737   12  1.224647e-16 -1.000000\n",
       "57324   22 -5.000000e-01  0.866025\n",
       "80368    0  0.000000e+00  1.000000"
      ]
     },
     "execution_count": 9,
     "metadata": {},
     "output_type": "execute_result"
    }
   ],
   "source": [
    "df[['h', 'h_sin', 'h_cos']].sample(10)"
   ]
  },
  {
   "cell_type": "markdown",
   "metadata": {},
   "source": [
    "Let's also do some visualisation on how `price_ratio` evolves over the hours of the day, day of the week, month and year. We will limit this analysis to the top 4 OTAs by search volume."
   ]
  },
  {
   "cell_type": "code",
   "execution_count": 19,
   "metadata": {},
   "outputs": [
    {
     "data": {
      "text/plain": [
       "['Hades', 'Captain Hook', 'Queen Grimhilde', 'Cruella De Vil']"
      ]
     },
     "execution_count": 19,
     "metadata": {},
     "output_type": "execute_result"
    }
   ],
   "source": [
    "# Get the top 4 OTAs by search volume\n",
    "top_otas = df[['ota', 'received_time']].groupby('ota').count()\n",
    "top_otas = top_otas.sort_values('received_time', ascending=False).head(4)\n",
    "top_otas = top_otas.index.tolist()\n",
    "top_otas"
   ]
  },
  {
   "cell_type": "code",
   "execution_count": 48,
   "metadata": {},
   "outputs": [
    {
     "name": "stdout",
     "output_type": "stream",
     "text": [
      "Captain Hook (22806, 24)\n",
      "Cruella De Vil (11550, 24)\n",
      "Hades (23093, 24)\n",
      "Queen Grimhilde (11390, 24)\n"
     ]
    },
    {
     "data": {
      "image/png": "[encoded data removed]",
      "text/plain": [
       "<matplotlib.figure.Figure at 0x1a242d84e0>"
      ]
     },
     "metadata": {},
     "output_type": "display_data"
    }
   ],
   "source": [
    "# Plot price_ratio mean value over time of the day, week day, month and year\n",
    "# Applying undercut filter and using mean\n",
    "\n",
    "grouped = df.groupby('ota')\n",
    "\n",
    "hourly_ticks = 4 * 60 * 60 * np.arange(6)\n",
    "weekly_ticks = ['Mon', 'Tues', 'Wed', 'Thurs', 'Fri', 'Sat', 'Sun']\n",
    "monthly_ticks = ['Jan', 'Feb', 'Mar', 'Apr', 'May', 'Jun', 'Jul', 'Aug', 'Sep', 'Oct', 'Nov', 'Dec']\n",
    "\n",
    "fig, (ax1, ax2, ax3, ax4) = plt.subplots(4, figsize=(15,15))\n",
    "# plt.title('Price ratio mean value over time of the day, week day, month and year')\n",
    "\n",
    "for name, group in grouped:\n",
    "    if name in top_otas:\n",
    "        group.index = group['received_time']\n",
    "        group = group.drop('received_time', axis=1)\n",
    "        group = group[group['undercut'] == 1]\n",
    "        print(name, group.shape)    \n",
    "        group = group.resample('H').mean()\n",
    "        \n",
    "        by_hour = group['price_ratio'].groupby(group.index.time).mean()\n",
    "        by_hour.plot(xticks=hourly_ticks, label=name, ax=ax1, marker='o')\n",
    "        \n",
    "        by_weekday = group['price_ratio'].groupby(group.index.dayofweek).mean()\n",
    "        by_weekday.index = weekly_ticks\n",
    "        by_weekday.plot(label=name, ax=ax2, marker='o')\n",
    "\n",
    "        by_month = group['price_ratio'].groupby(group.index.month).mean()\n",
    "        by_month.index = monthly_ticks\n",
    "        by_month.plot(label=name, ax=ax3, marker='o')\n",
    "\n",
    "        by_year = group['price_ratio'].groupby(group.index.year).mean()\n",
    "        by_year.plot(label=name, ax=ax4, marker='o')\n",
    "        \n",
    "\n",
    "# _ = ax2.set_xticklabels(weekly_ticks)\n",
    "# _ = ax3.set_xticklabels(monthly_ticks)\n",
    "\n",
    "_ = ax1.legend()\n",
    "_ = ax2.legend()\n",
    "_ = ax3.legend()\n",
    "_ = ax4.legend()\n",
    "\n"
   ]
  },
  {
   "cell_type": "markdown",
   "metadata": {},
   "source": [
    "* Cruella De Vil seems to undercut more than the others others across all time frames\n",
    "* Undercutting seems to have decreased in 2018 vs 2017 (although this could be biased as the year hasn't finished)\n",
    "\n",
    "OVeral it is difficult to infer a particular seasonality from these plots given the large tails of the price_Ratio distributions and the fact that we are biasing these plots by taking the mean. So I think it is better to visualise this in box-plots as shown below:\n",
    "\n",
    "* Note below we only look at 2 OTAs and also we apply a filter of undercut==True to be able to visualise better those events\n",
    "* The observations may be biased as we don't have a full dataset for 2018"
   ]
  },
  {
   "cell_type": "code",
   "execution_count": 94,
   "metadata": {
    "scrolled": false
   },
   "outputs": [
    {
     "data": {
      "text/plain": [
       "<matplotlib.text.Text at 0x1a4510bfd0>"
      ]
     },
     "execution_count": 94,
     "metadata": {},
     "output_type": "execute_result"
    },
    {
     "data": {
      "image/png": "[encoded data removed]",
      "text/plain": [
       "<matplotlib.figure.Figure at 0x1a3fc80ba8>"
      ]
     },
     "metadata": {},
     "output_type": "display_data"
    }
   ],
   "source": [
    "mask = df['ota'].apply(lambda x: True if x in ['Hades', 'Cruella De Vil'] else False)\n",
    "temp = df[(mask) & (df['undercut'] == 1)].copy()\n",
    "temp['ota'] = temp['ota'].cat.remove_unused_categories()\n",
    "temp.shape\n",
    "ax = sns.boxplot(x=\"w\", y=\"price_ratio\", hue='ota', data=temp)\n",
    "_ = ax.set_xticklabels(weekly_ticks)\n",
    "plt.title('Undercutting distribution for two OTAs by day of the week')"
   ]
  },
  {
   "cell_type": "code",
   "execution_count": 95,
   "metadata": {
    "scrolled": false
   },
   "outputs": [
    {
     "data": {
      "text/plain": [
       "<matplotlib.text.Text at 0x1a48a735c0>"
      ]
     },
     "execution_count": 95,
     "metadata": {},
     "output_type": "execute_result"
    },
    {
     "data": {
      "image/png": "[encoded data removed]",
      "text/plain": [
       "<matplotlib.figure.Figure at 0x1a3fc87550>"
      ]
     },
     "metadata": {},
     "output_type": "display_data"
    }
   ],
   "source": [
    "mask = df['ota'].apply(lambda x: True if x in ['Hades', 'Cruella De Vil'] else False)\n",
    "temp = df[(mask) & (df['undercut'] == 1)].copy()\n",
    "temp['ota'] = temp['ota'].cat.remove_unused_categories()\n",
    "temp.shape\n",
    "ax = sns.boxplot(x=\"m\", y=\"price_ratio\", hue='ota', data=temp)\n",
    "_ = ax.set_xticklabels(monthly_ticks)\n",
    "plt.title('Undercutting distribution for two OTAs by month in the year')"
   ]
  },
  {
   "cell_type": "markdown",
   "metadata": {},
   "source": [
    "Both seem to undercut a bit more during the Spring and Summer seasons, although it is a stronger patter for Cruella De Vil."
   ]
  },
  {
   "cell_type": "markdown",
   "metadata": {},
   "source": [
    "## New features from aggregations\n",
    "\n",
    "We focus on building new features based on aggregations of the data. Note that below we are cheating in the sense that we are aggregating over all data, instead of just the train set. By doing this we make a big assumption that the distributions for the below variables doesn't change much on the test set or with new data."
   ]
  },
  {
   "cell_type": "markdown",
   "metadata": {},
   "source": [
    "### Is the hotel part of a chain?\n",
    "\n",
    "Here we infer this info by counting the number of distinct hotels with the same client id and if it's > 1, then it is part of a chain, else not."
   ]
  },
  {
   "cell_type": "code",
   "execution_count": 118,
   "metadata": {},
   "outputs": [],
   "source": [
    "# Is the hotel part of a chain?\n",
    "hotels_per_client = df[['client', 'hotel']].groupby('client').nunique().sort_values('hotel', ascending=False)\n",
    "hotels_per_client = hotels_per_client.rename(columns={'hotel': 'n_hotels'})\n",
    "hotels_per_client = hotels_per_client[['n_hotels']]\n",
    "df = df.join(hotels_per_client, on='client')\n",
    "df['chain'] = np.where(df['n_hotels'] > 1, 1, 0)\n"
   ]
  },
  {
   "cell_type": "code",
   "execution_count": 120,
   "metadata": {},
   "outputs": [
    {
     "data": {
      "text/html": [
       "<div>\n",
       "<style>\n",
       "    .dataframe thead tr:only-child th {\n",
       "        text-align: right;\n",
       "    }\n",
       "\n",
       "    .dataframe thead th {\n",
       "        text-align: left;\n",
       "    }\n",
       "\n",
       "    .dataframe tbody tr th {\n",
       "        vertical-align: top;\n",
       "    }\n",
       "</style>\n",
       "<table border=\"1\" class=\"dataframe\">\n",
       "  <thead>\n",
       "    <tr style=\"text-align: right;\">\n",
       "      <th></th>\n",
       "      <th>n_hotels</th>\n",
       "    </tr>\n",
       "    <tr>\n",
       "      <th>client</th>\n",
       "      <th></th>\n",
       "    </tr>\n",
       "  </thead>\n",
       "  <tbody>\n",
       "    <tr>\n",
       "      <th>1893</th>\n",
       "      <td>2118</td>\n",
       "    </tr>\n",
       "    <tr>\n",
       "      <th>382</th>\n",
       "      <td>854</td>\n",
       "    </tr>\n",
       "    <tr>\n",
       "      <th>1606</th>\n",
       "      <td>676</td>\n",
       "    </tr>\n",
       "    <tr>\n",
       "      <th>1134</th>\n",
       "      <td>506</td>\n",
       "    </tr>\n",
       "    <tr>\n",
       "      <th>773</th>\n",
       "      <td>421</td>\n",
       "    </tr>\n",
       "  </tbody>\n",
       "</table>\n",
       "</div>"
      ],
      "text/plain": [
       "        n_hotels\n",
       "client          \n",
       "1893        2118\n",
       "382          854\n",
       "1606         676\n",
       "1134         506\n",
       "773          421"
      ]
     },
     "execution_count": 120,
     "metadata": {},
     "output_type": "execute_result"
    }
   ],
   "source": [
    "# Top 5 clients by largest number of hotels owned\n",
    "hotels_per_client.head()"
   ]
  },
  {
   "cell_type": "code",
   "execution_count": 127,
   "metadata": {},
   "outputs": [
    {
     "data": {
      "image/png": "[encoded data removed]",
      "text/plain": [
       "<matplotlib.figure.Figure at 0x1a4e6cdb70>"
      ]
     },
     "metadata": {},
     "output_type": "display_data"
    }
   ],
   "source": [
    "# Percentage of hotels part of a chain vs unique\n",
    "ax = pd.DataFrame(df['chain'].value_counts()).T.plot(kind='bar', stacked=True, figsize=(7, 5))\n",
    "_ = ax.set_xticklabels([])\n",
    "plt.legend(['chain', 'not chain'])\n",
    "\n",
    "for p in ax.patches:\n",
    "    p_height = p.get_height()\n",
    "    pct = (1 - p_height / df.shape[0]) * 100\n",
    "    ax.annotate('{:.1f}%'.format(pct), (p.get_x(), p_height))\n",
    "    \n",
    "_ = plt.title('Percentage of hotels part of a chain vs unique')"
   ]
  },
  {
   "cell_type": "markdown",
   "metadata": {},
   "source": [
    "### Number of rooms required\n",
    "\n",
    "We don't have this data available but we can create a feature on the distinct searches wrt number of adults - this correlates to the number of rooms requested as children are usually fitted within the same room as the adults"
   ]
  },
  {
   "cell_type": "code",
   "execution_count": 105,
   "metadata": {},
   "outputs": [],
   "source": [
    "# nunique number of adults per hotel equates to number of rooms requested\n",
    "rooms_per_hotel = df[['hotel', 'adults']].groupby('hotel').nunique().sort_values('adults', ascending=False)\n",
    "rooms_per_hotel = rooms_per_hotel.rename(columns={'adults': 'n_rooms'})\n",
    "rooms_per_hotel = rooms_per_hotel[['n_rooms']]\n",
    "df = df.join(rooms_per_hotel, on='hotel')"
   ]
  },
  {
   "cell_type": "code",
   "execution_count": 106,
   "metadata": {},
   "outputs": [
    {
     "data": {
      "image/png": "[encoded data removed]",
      "text/plain": [
       "<matplotlib.figure.Figure at 0x1a49526358>"
      ]
     },
     "metadata": {},
     "output_type": "display_data"
    }
   ],
   "source": [
    "# Percentage of hotels part of a chain vs unique\n",
    "ax = pd.DataFrame(df['n_rooms'].value_counts()).T.plot(kind='bar', stacked=True, figsize=(7, 5))\n",
    "_ = ax.set_xticklabels([])\n",
    "_ = plt.title('Distribution of number of rooms across hotels in the data')\n"
   ]
  },
  {
   "cell_type": "markdown",
   "metadata": {},
   "source": [
    "As expected, it seems most hotels are requested only 1 or 2 rooms at most"
   ]
  },
  {
   "cell_type": "markdown",
   "metadata": {},
   "source": [
    "### Demand for hotel\n",
    "\n",
    "We infer this from the data by using the number of searches performed for a given hotel. Perhaps this is a factor for OTAs to undercut more or less"
   ]
  },
  {
   "cell_type": "code",
   "execution_count": 107,
   "metadata": {},
   "outputs": [],
   "source": [
    "searches_by_hotel = df[['hotel', 'received_time']].groupby('hotel').nunique().sort_values('received_time',\n",
    "                                                                                          ascending=False)\n",
    "searches_by_hotel = searches_by_hotel.rename(columns={'received_time': 'n_searches'})\n",
    "searches_by_hotel = searches_by_hotel[['n_searches']]\n",
    "df = df.join(searches_by_hotel, on='hotel')\n"
   ]
  },
  {
   "cell_type": "code",
   "execution_count": 108,
   "metadata": {},
   "outputs": [
    {
     "data": {
      "text/html": [
       "<div>\n",
       "<style>\n",
       "    .dataframe thead tr:only-child th {\n",
       "        text-align: right;\n",
       "    }\n",
       "\n",
       "    .dataframe thead th {\n",
       "        text-align: left;\n",
       "    }\n",
       "\n",
       "    .dataframe tbody tr th {\n",
       "        vertical-align: top;\n",
       "    }\n",
       "</style>\n",
       "<table border=\"1\" class=\"dataframe\">\n",
       "  <thead>\n",
       "    <tr style=\"text-align: right;\">\n",
       "      <th></th>\n",
       "      <th>n_searches</th>\n",
       "    </tr>\n",
       "    <tr>\n",
       "      <th>hotel</th>\n",
       "      <th></th>\n",
       "    </tr>\n",
       "  </thead>\n",
       "  <tbody>\n",
       "    <tr>\n",
       "      <th>10491</th>\n",
       "      <td>4151</td>\n",
       "    </tr>\n",
       "    <tr>\n",
       "      <th>9787</th>\n",
       "      <td>1839</td>\n",
       "    </tr>\n",
       "    <tr>\n",
       "      <th>1942</th>\n",
       "      <td>1631</td>\n",
       "    </tr>\n",
       "    <tr>\n",
       "      <th>2539</th>\n",
       "      <td>997</td>\n",
       "    </tr>\n",
       "    <tr>\n",
       "      <th>1629</th>\n",
       "      <td>715</td>\n",
       "    </tr>\n",
       "  </tbody>\n",
       "</table>\n",
       "</div>"
      ],
      "text/plain": [
       "       n_searches\n",
       "hotel            \n",
       "10491        4151\n",
       "9787         1839\n",
       "1942         1631\n",
       "2539          997\n",
       "1629          715"
      ]
     },
     "execution_count": 108,
     "metadata": {},
     "output_type": "execute_result"
    }
   ],
   "source": [
    "searches_by_hotel.head()"
   ]
  },
  {
   "cell_type": "markdown",
   "metadata": {},
   "source": [
    "The above hotels seem to be the most popular"
   ]
  },
  {
   "cell_type": "markdown",
   "metadata": {},
   "source": [
    "## Categorical Features"
   ]
  },
  {
   "cell_type": "markdown",
   "metadata": {},
   "source": [
    "### Reducing Dimensionality\n",
    "\n",
    "For the columns `user_country` and `currency` we have too many categories:"
   ]
  },
  {
   "cell_type": "code",
   "execution_count": 109,
   "metadata": {},
   "outputs": [
    {
     "data": {
      "text/plain": [
       "array(['AD', 'AE', 'AF', 'AG', 'AI', 'AL', 'AM', 'AO', 'AR', 'AS', 'AT',\n",
       "       'AU', 'AW', 'AZ', 'BA', 'BB', 'BD', 'BE', 'BF', 'BG', 'BH', 'BL',\n",
       "       'BM', 'BN', 'BO', 'BQ', 'BR', 'BS', 'BW', 'BY', 'BZ', 'CA', 'CD',\n",
       "       'CH', 'CI', 'CK', 'CL', 'CM', 'CN', 'CO', 'CR', 'CV', 'CW', 'CY',\n",
       "       'CZ', 'DE', 'DJ', 'DK', 'DM', 'DO', 'DZ', 'EC', 'EE', 'EG', 'ES',\n",
       "       'ET', 'FI', 'FJ', 'FM', 'FO', 'FR', 'GA', 'GB', 'GD', 'GE', 'GF',\n",
       "       'GG', 'GH', 'GI', 'GL', 'GN', 'GP', 'GR', 'GT', 'GU', 'GW', 'GY',\n",
       "       'HK', 'HN', 'HR', 'HT', 'HU', 'ID', 'IE', 'IL', 'IM', 'IN', 'IQ',\n",
       "       'IS', 'IT', 'JE', 'JM', 'JO', 'JP', 'KE', 'KG', 'KH', 'KN', 'KR',\n",
       "       'KW', 'KY', 'KZ', 'LA', 'LB', 'LC', 'LI', 'LK', 'LS', 'LT', 'LU',\n",
       "       'LV', 'MA', 'MC', 'MD', 'ME', 'MF', 'MG', 'MH', 'MK', 'ML', 'MM',\n",
       "       'MN', 'MO', 'MP', 'MQ', 'MR', 'MT', 'MU', 'MV', 'MW', 'MX', 'MY',\n",
       "       'MZ', 'NC', 'NG', 'NI', 'NL', 'NO', 'NP', 'NZ', 'OM', 'PA', 'PE',\n",
       "       'PF', 'PG', 'PH', 'PK', 'PL', 'PR', 'PS', 'PT', 'PY', 'QA', 'RE',\n",
       "       'RO', 'RS', 'RU', 'SA', 'SB', 'SC', 'SE', 'SG', 'SI', 'SK', 'SM',\n",
       "       'SN', 'SR', 'SV', 'SX', 'SZ', 'TC', 'TH', 'TL', 'TN', 'TR', 'TT',\n",
       "       'TW', 'TZ', 'UA', 'UG', 'US', 'UY', 'UZ', 'VC', 'VE', 'VG', 'VI',\n",
       "       'VN', 'VU', 'WS', 'ZA', 'ZM', 'ZW'], dtype=object)"
      ]
     },
     "execution_count": 109,
     "metadata": {},
     "output_type": "execute_result"
    }
   ],
   "source": [
    "np.unique(df['user_country'])"
   ]
  },
  {
   "cell_type": "code",
   "execution_count": 110,
   "metadata": {},
   "outputs": [
    {
     "data": {
      "text/plain": [
       "array(['AED', 'ANG', 'AOA', 'ARS', 'AUD', 'AZN', 'BAM', 'BDT', 'BGN',\n",
       "       'BHD', 'BRL', 'BSD', 'BWP', 'CAD', 'CHF', 'CLP', 'CNY', 'COP',\n",
       "       'CRC', 'CVE', 'CYP', 'CZK', 'DJF', 'DKK', 'DOP', 'DZD', 'EGP',\n",
       "       'EUR', 'FJD', 'GBP', 'GTQ', 'HKD', 'HRK', 'HUF', 'IDR', 'ILS',\n",
       "       'INR', 'IQD', 'ISK', 'ITL', 'JOD', 'JPY', 'KES', 'KHR', 'KRW',\n",
       "       'KWD', 'LBP', 'LKR', 'LRD', 'LVL', 'MAD', 'MDL', 'MOP', 'MUR',\n",
       "       'MXN', 'MYR', 'NAD', 'NGN', 'NIO', 'NOK', 'NPR', 'NZD', 'OMR',\n",
       "       'PEN', 'PGK', 'PHP', 'PKR', 'PLN', 'PYG', 'QAR', 'RON', 'RSD',\n",
       "       'RUB', 'SAR', 'SEK', 'SGD', 'SRD', 'THB', 'TMT', 'TND', 'TRY',\n",
       "       'TTD', 'TWD', 'UAH', 'USD', 'UYU', 'VEF', 'VND', 'VUV', 'XCD',\n",
       "       'XPF', 'ZAR'], dtype=object)"
      ]
     },
     "execution_count": 110,
     "metadata": {},
     "output_type": "execute_result"
    }
   ],
   "source": [
    "np.unique(df['currency'])"
   ]
  },
  {
   "cell_type": "markdown",
   "metadata": {},
   "source": [
    "We could convert each of this to a binary column but we then would hit the so called `dimensionality curse` - having too many dimensions. So the approach here is to bin these categories into subsets, hence decreasing the number of columns:\n",
    "\n",
    "* For `user_country` a logical bining is to map these to continents\n",
    "* For  `currency` a logical binning would be to map these to major curencies (e.g. 'USD', 'EUR' and 'GBP') vs 'other', or just create a single binary column to specific whether it is `major` or not"
   ]
  },
  {
   "cell_type": "code",
   "execution_count": 112,
   "metadata": {},
   "outputs": [],
   "source": [
    "from undercut import map_country, map_currency\n",
    "\n",
    "# Reduce dimensionality of cat features\n",
    "\n",
    "continent_dict = open_pickle('data/continent_dict.p')\n",
    "df['user_continent'] = df['user_country'].apply(lambda x: map_country(x))\n",
    "\n",
    "df['currency_v2'] = df['currency'].apply(lambda x: map_currency(x))\n",
    "df['major_currency'] = np.where(df['currency_v2'] != 'other', 1, 0)\n"
   ]
  },
  {
   "cell_type": "markdown",
   "metadata": {},
   "source": [
    "This is how they look:"
   ]
  },
  {
   "cell_type": "code",
   "execution_count": 126,
   "metadata": {},
   "outputs": [
    {
     "data": {
      "text/html": [
       "<div>\n",
       "<style>\n",
       "    .dataframe thead tr:only-child th {\n",
       "        text-align: right;\n",
       "    }\n",
       "\n",
       "    .dataframe thead th {\n",
       "        text-align: left;\n",
       "    }\n",
       "\n",
       "    .dataframe tbody tr th {\n",
       "        vertical-align: top;\n",
       "    }\n",
       "</style>\n",
       "<table border=\"1\" class=\"dataframe\">\n",
       "  <thead>\n",
       "    <tr style=\"text-align: right;\">\n",
       "      <th></th>\n",
       "      <th>user_country</th>\n",
       "      <th>user_continent</th>\n",
       "      <th>currency</th>\n",
       "      <th>currency_v2</th>\n",
       "      <th>major_currency</th>\n",
       "    </tr>\n",
       "  </thead>\n",
       "  <tbody>\n",
       "    <tr>\n",
       "      <th>80663</th>\n",
       "      <td>US</td>\n",
       "      <td>NA</td>\n",
       "      <td>USD</td>\n",
       "      <td>USD</td>\n",
       "      <td>1</td>\n",
       "    </tr>\n",
       "    <tr>\n",
       "      <th>142170</th>\n",
       "      <td>DE</td>\n",
       "      <td>EU</td>\n",
       "      <td>EUR</td>\n",
       "      <td>EUR</td>\n",
       "      <td>1</td>\n",
       "    </tr>\n",
       "    <tr>\n",
       "      <th>47396</th>\n",
       "      <td>US</td>\n",
       "      <td>NA</td>\n",
       "      <td>USD</td>\n",
       "      <td>USD</td>\n",
       "      <td>1</td>\n",
       "    </tr>\n",
       "    <tr>\n",
       "      <th>66653</th>\n",
       "      <td>US</td>\n",
       "      <td>NA</td>\n",
       "      <td>USD</td>\n",
       "      <td>USD</td>\n",
       "      <td>1</td>\n",
       "    </tr>\n",
       "    <tr>\n",
       "      <th>73480</th>\n",
       "      <td>GB</td>\n",
       "      <td>EU</td>\n",
       "      <td>ZAR</td>\n",
       "      <td>other</td>\n",
       "      <td>0</td>\n",
       "    </tr>\n",
       "  </tbody>\n",
       "</table>\n",
       "</div>"
      ],
      "text/plain": [
       "       user_country user_continent currency currency_v2  major_currency\n",
       "80663            US             NA      USD         USD               1\n",
       "142170           DE             EU      EUR         EUR               1\n",
       "47396            US             NA      USD         USD               1\n",
       "66653            US             NA      USD         USD               1\n",
       "73480            GB             EU      ZAR       other               0"
      ]
     },
     "execution_count": 126,
     "metadata": {},
     "output_type": "execute_result"
    }
   ],
   "source": [
    "df[['user_country', 'user_continent', 'currency', 'currency_v2', 'major_currency']].sample(5)"
   ]
  },
  {
   "cell_type": "markdown",
   "metadata": {},
   "source": [
    "## One-hot Encoding of Categorical Features\n",
    "\n",
    "The last step before feeding to the model, is to convert the selected categorical features into binary columns, a.k.a. one-hot encoding.\n",
    "\n",
    "So for example, for `user_continent`, this would look like this:"
   ]
  },
  {
   "cell_type": "code",
   "execution_count": 130,
   "metadata": {},
   "outputs": [
    {
     "data": {
      "text/html": [
       "<div>\n",
       "<style>\n",
       "    .dataframe thead tr:only-child th {\n",
       "        text-align: right;\n",
       "    }\n",
       "\n",
       "    .dataframe thead th {\n",
       "        text-align: left;\n",
       "    }\n",
       "\n",
       "    .dataframe tbody tr th {\n",
       "        vertical-align: top;\n",
       "    }\n",
       "</style>\n",
       "<table border=\"1\" class=\"dataframe\">\n",
       "  <thead>\n",
       "    <tr style=\"text-align: right;\">\n",
       "      <th></th>\n",
       "      <th>AF</th>\n",
       "      <th>AS</th>\n",
       "      <th>EU</th>\n",
       "      <th>NA</th>\n",
       "      <th>OC</th>\n",
       "      <th>SA</th>\n",
       "      <th>other</th>\n",
       "    </tr>\n",
       "  </thead>\n",
       "  <tbody>\n",
       "    <tr>\n",
       "      <th>0</th>\n",
       "      <td>0</td>\n",
       "      <td>0</td>\n",
       "      <td>0</td>\n",
       "      <td>1</td>\n",
       "      <td>0</td>\n",
       "      <td>0</td>\n",
       "      <td>0</td>\n",
       "    </tr>\n",
       "    <tr>\n",
       "      <th>1</th>\n",
       "      <td>0</td>\n",
       "      <td>0</td>\n",
       "      <td>0</td>\n",
       "      <td>1</td>\n",
       "      <td>0</td>\n",
       "      <td>0</td>\n",
       "      <td>0</td>\n",
       "    </tr>\n",
       "    <tr>\n",
       "      <th>2</th>\n",
       "      <td>0</td>\n",
       "      <td>0</td>\n",
       "      <td>0</td>\n",
       "      <td>0</td>\n",
       "      <td>1</td>\n",
       "      <td>0</td>\n",
       "      <td>0</td>\n",
       "    </tr>\n",
       "    <tr>\n",
       "      <th>3</th>\n",
       "      <td>0</td>\n",
       "      <td>0</td>\n",
       "      <td>1</td>\n",
       "      <td>0</td>\n",
       "      <td>0</td>\n",
       "      <td>0</td>\n",
       "      <td>0</td>\n",
       "    </tr>\n",
       "    <tr>\n",
       "      <th>4</th>\n",
       "      <td>0</td>\n",
       "      <td>0</td>\n",
       "      <td>0</td>\n",
       "      <td>1</td>\n",
       "      <td>0</td>\n",
       "      <td>0</td>\n",
       "      <td>0</td>\n",
       "    </tr>\n",
       "  </tbody>\n",
       "</table>\n",
       "</div>"
      ],
      "text/plain": [
       "   AF  AS  EU  NA  OC  SA  other\n",
       "0   0   0   0   1   0   0      0\n",
       "1   0   0   0   1   0   0      0\n",
       "2   0   0   0   0   1   0      0\n",
       "3   0   0   1   0   0   0      0\n",
       "4   0   0   0   1   0   0      0"
      ]
     },
     "execution_count": 130,
     "metadata": {},
     "output_type": "execute_result"
    }
   ],
   "source": [
    "pd.get_dummies(df['user_continent']).head()"
   ]
  },
  {
   "cell_type": "markdown",
   "metadata": {},
   "source": [
    "We will do this below once we select the features to construct the feature matrix `X`"
   ]
  },
  {
   "cell_type": "markdown",
   "metadata": {},
   "source": [
    "# Defining the Feature Matrix X and the Target y"
   ]
  },
  {
   "cell_type": "markdown",
   "metadata": {},
   "source": [
    "Below is the selection of columns which imo makes sense to include, split by numerical and categorical. The categorical ones must be one-hot-encoded"
   ]
  },
  {
   "cell_type": "code",
   "execution_count": 132,
   "metadata": {},
   "outputs": [],
   "source": [
    "# Define columns to build feature matrix X\n",
    "\n",
    "numerical = [\n",
    "    # raw\n",
    "    'adults', 'children', \n",
    "    # scaled\n",
    "    'direct_price_scaled',  \n",
    "    # time\n",
    "    'h_sin', 'h_cos', 'w_sin', 'w_cos', 'm_sin', 'm_cos', 'yr_r',  \n",
    "    # aggregations\n",
    "    'n_hotels', 'n_rooms', 'n_searches',  \n",
    "    # binary\n",
    "    'chain', 'major_currency'\n",
    "]\n",
    "\n",
    "# Must be one-hot encoded\n",
    "categorical = [\n",
    "    'ota',\n",
    "    'user_continent',\n",
    "    'currency_v2'\n",
    "]\n"
   ]
  },
  {
   "cell_type": "code",
   "execution_count": 133,
   "metadata": {},
   "outputs": [
    {
     "data": {
      "text/html": [
       "<div>\n",
       "<style>\n",
       "    .dataframe thead tr:only-child th {\n",
       "        text-align: right;\n",
       "    }\n",
       "\n",
       "    .dataframe thead th {\n",
       "        text-align: left;\n",
       "    }\n",
       "\n",
       "    .dataframe tbody tr th {\n",
       "        vertical-align: top;\n",
       "    }\n",
       "</style>\n",
       "<table border=\"1\" class=\"dataframe\">\n",
       "  <thead>\n",
       "    <tr style=\"text-align: right;\">\n",
       "      <th></th>\n",
       "      <th>adults</th>\n",
       "      <th>children</th>\n",
       "      <th>direct_price_scaled</th>\n",
       "      <th>h_sin</th>\n",
       "      <th>h_cos</th>\n",
       "      <th>w_sin</th>\n",
       "      <th>w_cos</th>\n",
       "      <th>m_sin</th>\n",
       "      <th>m_cos</th>\n",
       "      <th>yr_r</th>\n",
       "      <th>n_hotels</th>\n",
       "      <th>n_rooms</th>\n",
       "      <th>n_searches</th>\n",
       "      <th>chain</th>\n",
       "      <th>major_currency</th>\n",
       "    </tr>\n",
       "  </thead>\n",
       "  <tbody>\n",
       "    <tr>\n",
       "      <th>0</th>\n",
       "      <td>2</td>\n",
       "      <td>0</td>\n",
       "      <td>0.317207</td>\n",
       "      <td>0.500000</td>\n",
       "      <td>0.866025</td>\n",
       "      <td>0.000000</td>\n",
       "      <td>1.000000</td>\n",
       "      <td>0.000000</td>\n",
       "      <td>1.000000e+00</td>\n",
       "      <td>0</td>\n",
       "      <td>1</td>\n",
       "      <td>4</td>\n",
       "      <td>441</td>\n",
       "      <td>0</td>\n",
       "      <td>1</td>\n",
       "    </tr>\n",
       "    <tr>\n",
       "      <th>1</th>\n",
       "      <td>2</td>\n",
       "      <td>0</td>\n",
       "      <td>0.213634</td>\n",
       "      <td>-0.707107</td>\n",
       "      <td>0.707107</td>\n",
       "      <td>-0.974928</td>\n",
       "      <td>-0.222521</td>\n",
       "      <td>-0.500000</td>\n",
       "      <td>8.660254e-01</td>\n",
       "      <td>1</td>\n",
       "      <td>3</td>\n",
       "      <td>3</td>\n",
       "      <td>45</td>\n",
       "      <td>1</td>\n",
       "      <td>1</td>\n",
       "    </tr>\n",
       "    <tr>\n",
       "      <th>2</th>\n",
       "      <td>2</td>\n",
       "      <td>0</td>\n",
       "      <td>0.094836</td>\n",
       "      <td>0.707107</td>\n",
       "      <td>0.707107</td>\n",
       "      <td>0.000000</td>\n",
       "      <td>1.000000</td>\n",
       "      <td>-1.000000</td>\n",
       "      <td>-1.836970e-16</td>\n",
       "      <td>1</td>\n",
       "      <td>1</td>\n",
       "      <td>1</td>\n",
       "      <td>20</td>\n",
       "      <td>0</td>\n",
       "      <td>1</td>\n",
       "    </tr>\n",
       "    <tr>\n",
       "      <th>3</th>\n",
       "      <td>4</td>\n",
       "      <td>0</td>\n",
       "      <td>0.382599</td>\n",
       "      <td>0.707107</td>\n",
       "      <td>-0.707107</td>\n",
       "      <td>0.000000</td>\n",
       "      <td>1.000000</td>\n",
       "      <td>0.866025</td>\n",
       "      <td>5.000000e-01</td>\n",
       "      <td>1</td>\n",
       "      <td>2118</td>\n",
       "      <td>6</td>\n",
       "      <td>58</td>\n",
       "      <td>1</td>\n",
       "      <td>1</td>\n",
       "    </tr>\n",
       "    <tr>\n",
       "      <th>4</th>\n",
       "      <td>1</td>\n",
       "      <td>0</td>\n",
       "      <td>0.175967</td>\n",
       "      <td>0.000000</td>\n",
       "      <td>1.000000</td>\n",
       "      <td>0.974928</td>\n",
       "      <td>-0.222521</td>\n",
       "      <td>-0.866025</td>\n",
       "      <td>5.000000e-01</td>\n",
       "      <td>1</td>\n",
       "      <td>2118</td>\n",
       "      <td>2</td>\n",
       "      <td>5</td>\n",
       "      <td>1</td>\n",
       "      <td>1</td>\n",
       "    </tr>\n",
       "  </tbody>\n",
       "</table>\n",
       "</div>"
      ],
      "text/plain": [
       "   adults  children  direct_price_scaled     h_sin     h_cos     w_sin  \\\n",
       "0       2         0             0.317207  0.500000  0.866025  0.000000   \n",
       "1       2         0             0.213634 -0.707107  0.707107 -0.974928   \n",
       "2       2         0             0.094836  0.707107  0.707107  0.000000   \n",
       "3       4         0             0.382599  0.707107 -0.707107  0.000000   \n",
       "4       1         0             0.175967  0.000000  1.000000  0.974928   \n",
       "\n",
       "      w_cos     m_sin         m_cos  yr_r  n_hotels  n_rooms  n_searches  \\\n",
       "0  1.000000  0.000000  1.000000e+00     0         1        4         441   \n",
       "1 -0.222521 -0.500000  8.660254e-01     1         3        3          45   \n",
       "2  1.000000 -1.000000 -1.836970e-16     1         1        1          20   \n",
       "3  1.000000  0.866025  5.000000e-01     1      2118        6          58   \n",
       "4 -0.222521 -0.866025  5.000000e-01     1      2118        2           5   \n",
       "\n",
       "   chain  major_currency  \n",
       "0      0               1  \n",
       "1      1               1  \n",
       "2      0               1  \n",
       "3      1               1  \n",
       "4      1               1  "
      ]
     },
     "execution_count": 133,
     "metadata": {},
     "output_type": "execute_result"
    }
   ],
   "source": [
    "X = df[numerical].copy()\n",
    "X.head()"
   ]
  },
  {
   "cell_type": "code",
   "execution_count": 134,
   "metadata": {},
   "outputs": [
    {
     "data": {
      "text/html": [
       "<div>\n",
       "<style>\n",
       "    .dataframe thead tr:only-child th {\n",
       "        text-align: right;\n",
       "    }\n",
       "\n",
       "    .dataframe thead th {\n",
       "        text-align: left;\n",
       "    }\n",
       "\n",
       "    .dataframe tbody tr th {\n",
       "        vertical-align: top;\n",
       "    }\n",
       "</style>\n",
       "<table border=\"1\" class=\"dataframe\">\n",
       "  <thead>\n",
       "    <tr style=\"text-align: right;\">\n",
       "      <th></th>\n",
       "      <th>adults</th>\n",
       "      <th>children</th>\n",
       "      <th>direct_price_scaled</th>\n",
       "      <th>h_sin</th>\n",
       "      <th>h_cos</th>\n",
       "      <th>w_sin</th>\n",
       "      <th>w_cos</th>\n",
       "      <th>m_sin</th>\n",
       "      <th>m_cos</th>\n",
       "      <th>yr_r</th>\n",
       "      <th>...</th>\n",
       "      <th>cont_OC</th>\n",
       "      <th>cont_SA</th>\n",
       "      <th>cont_other</th>\n",
       "      <th>cur_AUD</th>\n",
       "      <th>cur_CAD</th>\n",
       "      <th>cur_EUR</th>\n",
       "      <th>cur_GBP</th>\n",
       "      <th>cur_JPY</th>\n",
       "      <th>cur_USD</th>\n",
       "      <th>cur_other</th>\n",
       "    </tr>\n",
       "  </thead>\n",
       "  <tbody>\n",
       "    <tr>\n",
       "      <th>0</th>\n",
       "      <td>2</td>\n",
       "      <td>0</td>\n",
       "      <td>0.317207</td>\n",
       "      <td>0.500000</td>\n",
       "      <td>0.866025</td>\n",
       "      <td>0.000000</td>\n",
       "      <td>1.000000</td>\n",
       "      <td>0.000000</td>\n",
       "      <td>1.000000e+00</td>\n",
       "      <td>0</td>\n",
       "      <td>...</td>\n",
       "      <td>0</td>\n",
       "      <td>0</td>\n",
       "      <td>0</td>\n",
       "      <td>0</td>\n",
       "      <td>0</td>\n",
       "      <td>0</td>\n",
       "      <td>0</td>\n",
       "      <td>0</td>\n",
       "      <td>1</td>\n",
       "      <td>0</td>\n",
       "    </tr>\n",
       "    <tr>\n",
       "      <th>1</th>\n",
       "      <td>2</td>\n",
       "      <td>0</td>\n",
       "      <td>0.213634</td>\n",
       "      <td>-0.707107</td>\n",
       "      <td>0.707107</td>\n",
       "      <td>-0.974928</td>\n",
       "      <td>-0.222521</td>\n",
       "      <td>-0.500000</td>\n",
       "      <td>8.660254e-01</td>\n",
       "      <td>1</td>\n",
       "      <td>...</td>\n",
       "      <td>0</td>\n",
       "      <td>0</td>\n",
       "      <td>0</td>\n",
       "      <td>0</td>\n",
       "      <td>0</td>\n",
       "      <td>0</td>\n",
       "      <td>0</td>\n",
       "      <td>0</td>\n",
       "      <td>1</td>\n",
       "      <td>0</td>\n",
       "    </tr>\n",
       "    <tr>\n",
       "      <th>2</th>\n",
       "      <td>2</td>\n",
       "      <td>0</td>\n",
       "      <td>0.094836</td>\n",
       "      <td>0.707107</td>\n",
       "      <td>0.707107</td>\n",
       "      <td>0.000000</td>\n",
       "      <td>1.000000</td>\n",
       "      <td>-1.000000</td>\n",
       "      <td>-1.836970e-16</td>\n",
       "      <td>1</td>\n",
       "      <td>...</td>\n",
       "      <td>1</td>\n",
       "      <td>0</td>\n",
       "      <td>0</td>\n",
       "      <td>1</td>\n",
       "      <td>0</td>\n",
       "      <td>0</td>\n",
       "      <td>0</td>\n",
       "      <td>0</td>\n",
       "      <td>0</td>\n",
       "      <td>0</td>\n",
       "    </tr>\n",
       "    <tr>\n",
       "      <th>3</th>\n",
       "      <td>4</td>\n",
       "      <td>0</td>\n",
       "      <td>0.382599</td>\n",
       "      <td>0.707107</td>\n",
       "      <td>-0.707107</td>\n",
       "      <td>0.000000</td>\n",
       "      <td>1.000000</td>\n",
       "      <td>0.866025</td>\n",
       "      <td>5.000000e-01</td>\n",
       "      <td>1</td>\n",
       "      <td>...</td>\n",
       "      <td>0</td>\n",
       "      <td>0</td>\n",
       "      <td>0</td>\n",
       "      <td>0</td>\n",
       "      <td>0</td>\n",
       "      <td>0</td>\n",
       "      <td>0</td>\n",
       "      <td>0</td>\n",
       "      <td>1</td>\n",
       "      <td>0</td>\n",
       "    </tr>\n",
       "    <tr>\n",
       "      <th>4</th>\n",
       "      <td>1</td>\n",
       "      <td>0</td>\n",
       "      <td>0.175967</td>\n",
       "      <td>0.000000</td>\n",
       "      <td>1.000000</td>\n",
       "      <td>0.974928</td>\n",
       "      <td>-0.222521</td>\n",
       "      <td>-0.866025</td>\n",
       "      <td>5.000000e-01</td>\n",
       "      <td>1</td>\n",
       "      <td>...</td>\n",
       "      <td>0</td>\n",
       "      <td>0</td>\n",
       "      <td>0</td>\n",
       "      <td>0</td>\n",
       "      <td>1</td>\n",
       "      <td>0</td>\n",
       "      <td>0</td>\n",
       "      <td>0</td>\n",
       "      <td>0</td>\n",
       "      <td>0</td>\n",
       "    </tr>\n",
       "  </tbody>\n",
       "</table>\n",
       "<p>5 rows × 43 columns</p>\n",
       "</div>"
      ],
      "text/plain": [
       "   adults  children  direct_price_scaled     h_sin     h_cos     w_sin  \\\n",
       "0       2         0             0.317207  0.500000  0.866025  0.000000   \n",
       "1       2         0             0.213634 -0.707107  0.707107 -0.974928   \n",
       "2       2         0             0.094836  0.707107  0.707107  0.000000   \n",
       "3       4         0             0.382599  0.707107 -0.707107  0.000000   \n",
       "4       1         0             0.175967  0.000000  1.000000  0.974928   \n",
       "\n",
       "      w_cos     m_sin         m_cos  yr_r    ...      cont_OC  cont_SA  \\\n",
       "0  1.000000  0.000000  1.000000e+00     0    ...            0        0   \n",
       "1 -0.222521 -0.500000  8.660254e-01     1    ...            0        0   \n",
       "2  1.000000 -1.000000 -1.836970e-16     1    ...            1        0   \n",
       "3  1.000000  0.866025  5.000000e-01     1    ...            0        0   \n",
       "4 -0.222521 -0.866025  5.000000e-01     1    ...            0        0   \n",
       "\n",
       "   cont_other  cur_AUD  cur_CAD  cur_EUR  cur_GBP  cur_JPY  cur_USD  cur_other  \n",
       "0           0        0        0        0        0        0        1          0  \n",
       "1           0        0        0        0        0        0        1          0  \n",
       "2           0        1        0        0        0        0        0          0  \n",
       "3           0        0        0        0        0        0        1          0  \n",
       "4           0        0        1        0        0        0        0          0  \n",
       "\n",
       "[5 rows x 43 columns]"
      ]
     },
     "execution_count": 134,
     "metadata": {},
     "output_type": "execute_result"
    }
   ],
   "source": [
    "for col in categorical:\n",
    "    prefix = col[:3] if 'continent' not in col else 'cont'\n",
    "    X = X.join(pd.get_dummies(df[col], prefix=prefix))\n",
    "\n",
    "X.head()\n"
   ]
  },
  {
   "cell_type": "markdown",
   "metadata": {},
   "source": [
    "As for the target, as discussed above we define the binary version of `price_ratio`:"
   ]
  },
  {
   "cell_type": "code",
   "execution_count": 137,
   "metadata": {},
   "outputs": [
    {
     "data": {
      "text/plain": [
       "92912     1\n",
       "104758    1\n",
       "19701     0\n",
       "150612    1\n",
       "55262     0\n",
       "Name: undercut, dtype: int64"
      ]
     },
     "execution_count": 137,
     "metadata": {},
     "output_type": "execute_result"
    }
   ],
   "source": [
    "# Binary target\n",
    "y = df['undercut']\n",
    "y.sample(5)"
   ]
  },
  {
   "cell_type": "code",
   "execution_count": 138,
   "metadata": {},
   "outputs": [
    {
     "name": "stdout",
     "output_type": "stream",
     "text": [
      "(175812, 43) (175812,)\n"
     ]
    }
   ],
   "source": [
    "print(X.shape, y.shape)"
   ]
  },
  {
   "cell_type": "markdown",
   "metadata": {},
   "source": [
    "Let's now try to see how the variables correlate to the target and draw a heatmap to see this visually:"
   ]
  },
  {
   "cell_type": "code",
   "execution_count": 155,
   "metadata": {},
   "outputs": [
    {
     "data": {
      "text/html": [
       "<div>\n",
       "<style>\n",
       "    .dataframe thead tr:only-child th {\n",
       "        text-align: right;\n",
       "    }\n",
       "\n",
       "    .dataframe thead th {\n",
       "        text-align: left;\n",
       "    }\n",
       "\n",
       "    .dataframe tbody tr th {\n",
       "        vertical-align: top;\n",
       "    }\n",
       "</style>\n",
       "<table border=\"1\" class=\"dataframe\">\n",
       "  <thead>\n",
       "    <tr style=\"text-align: right;\">\n",
       "      <th></th>\n",
       "      <th>undercut</th>\n",
       "      <th>adults</th>\n",
       "      <th>children</th>\n",
       "      <th>direct_price_scaled</th>\n",
       "      <th>h_sin</th>\n",
       "      <th>h_cos</th>\n",
       "      <th>w_sin</th>\n",
       "      <th>w_cos</th>\n",
       "      <th>m_sin</th>\n",
       "      <th>m_cos</th>\n",
       "      <th>...</th>\n",
       "      <th>cont_OC</th>\n",
       "      <th>cont_SA</th>\n",
       "      <th>cont_other</th>\n",
       "      <th>cur_AUD</th>\n",
       "      <th>cur_CAD</th>\n",
       "      <th>cur_EUR</th>\n",
       "      <th>cur_GBP</th>\n",
       "      <th>cur_JPY</th>\n",
       "      <th>cur_USD</th>\n",
       "      <th>cur_other</th>\n",
       "    </tr>\n",
       "  </thead>\n",
       "  <tbody>\n",
       "    <tr>\n",
       "      <th>undercut</th>\n",
       "      <td>1.000000</td>\n",
       "      <td>0.061226</td>\n",
       "      <td>-0.004724</td>\n",
       "      <td>0.189118</td>\n",
       "      <td>0.006818</td>\n",
       "      <td>-0.006920</td>\n",
       "      <td>-0.007634</td>\n",
       "      <td>-0.002082</td>\n",
       "      <td>-0.070273</td>\n",
       "      <td>0.079436</td>\n",
       "      <td>...</td>\n",
       "      <td>0.067269</td>\n",
       "      <td>0.032901</td>\n",
       "      <td>0.001275</td>\n",
       "      <td>0.063786</td>\n",
       "      <td>-0.005951</td>\n",
       "      <td>0.015307</td>\n",
       "      <td>0.003363</td>\n",
       "      <td>0.025097</td>\n",
       "      <td>-0.105687</td>\n",
       "      <td>0.116809</td>\n",
       "    </tr>\n",
       "    <tr>\n",
       "      <th>adults</th>\n",
       "      <td>0.061226</td>\n",
       "      <td>1.000000</td>\n",
       "      <td>0.088032</td>\n",
       "      <td>0.127740</td>\n",
       "      <td>0.030205</td>\n",
       "      <td>0.024401</td>\n",
       "      <td>-0.025487</td>\n",
       "      <td>0.009803</td>\n",
       "      <td>-0.004238</td>\n",
       "      <td>-0.018670</td>\n",
       "      <td>...</td>\n",
       "      <td>0.037385</td>\n",
       "      <td>0.021503</td>\n",
       "      <td>0.006556</td>\n",
       "      <td>0.032246</td>\n",
       "      <td>0.052884</td>\n",
       "      <td>-0.024331</td>\n",
       "      <td>-0.005343</td>\n",
       "      <td>-0.004826</td>\n",
       "      <td>-0.035726</td>\n",
       "      <td>0.039857</td>\n",
       "    </tr>\n",
       "    <tr>\n",
       "      <th>children</th>\n",
       "      <td>-0.004724</td>\n",
       "      <td>0.088032</td>\n",
       "      <td>1.000000</td>\n",
       "      <td>0.055361</td>\n",
       "      <td>-0.015662</td>\n",
       "      <td>0.023484</td>\n",
       "      <td>-0.005252</td>\n",
       "      <td>0.002364</td>\n",
       "      <td>0.011192</td>\n",
       "      <td>-0.019155</td>\n",
       "      <td>...</td>\n",
       "      <td>-0.002916</td>\n",
       "      <td>0.002236</td>\n",
       "      <td>0.000717</td>\n",
       "      <td>-0.011694</td>\n",
       "      <td>0.008603</td>\n",
       "      <td>-0.044599</td>\n",
       "      <td>-0.043560</td>\n",
       "      <td>-0.003430</td>\n",
       "      <td>0.059976</td>\n",
       "      <td>-0.001777</td>\n",
       "    </tr>\n",
       "    <tr>\n",
       "      <th>direct_price_scaled</th>\n",
       "      <td>0.189118</td>\n",
       "      <td>0.127740</td>\n",
       "      <td>0.055361</td>\n",
       "      <td>1.000000</td>\n",
       "      <td>-0.026997</td>\n",
       "      <td>0.039916</td>\n",
       "      <td>-0.006792</td>\n",
       "      <td>0.001575</td>\n",
       "      <td>-0.034890</td>\n",
       "      <td>-0.053811</td>\n",
       "      <td>...</td>\n",
       "      <td>0.001004</td>\n",
       "      <td>0.015789</td>\n",
       "      <td>0.002405</td>\n",
       "      <td>-0.018490</td>\n",
       "      <td>0.026626</td>\n",
       "      <td>-0.092976</td>\n",
       "      <td>0.011767</td>\n",
       "      <td>0.015354</td>\n",
       "      <td>0.077478</td>\n",
       "      <td>-0.037668</td>\n",
       "    </tr>\n",
       "    <tr>\n",
       "      <th>h_sin</th>\n",
       "      <td>0.006818</td>\n",
       "      <td>0.030205</td>\n",
       "      <td>-0.015662</td>\n",
       "      <td>-0.026997</td>\n",
       "      <td>1.000000</td>\n",
       "      <td>0.039367</td>\n",
       "      <td>0.004237</td>\n",
       "      <td>-0.018694</td>\n",
       "      <td>-0.005272</td>\n",
       "      <td>-0.013522</td>\n",
       "      <td>...</td>\n",
       "      <td>0.155797</td>\n",
       "      <td>-0.027149</td>\n",
       "      <td>0.001688</td>\n",
       "      <td>0.129620</td>\n",
       "      <td>-0.003845</td>\n",
       "      <td>-0.019139</td>\n",
       "      <td>-0.056631</td>\n",
       "      <td>0.026587</td>\n",
       "      <td>-0.052960</td>\n",
       "      <td>0.094638</td>\n",
       "    </tr>\n",
       "  </tbody>\n",
       "</table>\n",
       "<p>5 rows × 44 columns</p>\n",
       "</div>"
      ],
      "text/plain": [
       "                     undercut    adults  children  direct_price_scaled  \\\n",
       "undercut             1.000000  0.061226 -0.004724             0.189118   \n",
       "adults               0.061226  1.000000  0.088032             0.127740   \n",
       "children            -0.004724  0.088032  1.000000             0.055361   \n",
       "direct_price_scaled  0.189118  0.127740  0.055361             1.000000   \n",
       "h_sin                0.006818  0.030205 -0.015662            -0.026997   \n",
       "\n",
       "                        h_sin     h_cos     w_sin     w_cos     m_sin  \\\n",
       "undercut             0.006818 -0.006920 -0.007634 -0.002082 -0.070273   \n",
       "adults               0.030205  0.024401 -0.025487  0.009803 -0.004238   \n",
       "children            -0.015662  0.023484 -0.005252  0.002364  0.011192   \n",
       "direct_price_scaled -0.026997  0.039916 -0.006792  0.001575 -0.034890   \n",
       "h_sin                1.000000  0.039367  0.004237 -0.018694 -0.005272   \n",
       "\n",
       "                        m_cos    ...       cont_OC   cont_SA  cont_other  \\\n",
       "undercut             0.079436    ...      0.067269  0.032901    0.001275   \n",
       "adults              -0.018670    ...      0.037385  0.021503    0.006556   \n",
       "children            -0.019155    ...     -0.002916  0.002236    0.000717   \n",
       "direct_price_scaled -0.053811    ...      0.001004  0.015789    0.002405   \n",
       "h_sin               -0.013522    ...      0.155797 -0.027149    0.001688   \n",
       "\n",
       "                      cur_AUD   cur_CAD   cur_EUR   cur_GBP   cur_JPY  \\\n",
       "undercut             0.063786 -0.005951  0.015307  0.003363  0.025097   \n",
       "adults               0.032246  0.052884 -0.024331 -0.005343 -0.004826   \n",
       "children            -0.011694  0.008603 -0.044599 -0.043560 -0.003430   \n",
       "direct_price_scaled -0.018490  0.026626 -0.092976  0.011767  0.015354   \n",
       "h_sin                0.129620 -0.003845 -0.019139 -0.056631  0.026587   \n",
       "\n",
       "                      cur_USD  cur_other  \n",
       "undercut            -0.105687   0.116809  \n",
       "adults              -0.035726   0.039857  \n",
       "children             0.059976  -0.001777  \n",
       "direct_price_scaled  0.077478  -0.037668  \n",
       "h_sin               -0.052960   0.094638  \n",
       "\n",
       "[5 rows x 44 columns]"
      ]
     },
     "execution_count": 155,
     "metadata": {},
     "output_type": "execute_result"
    }
   ],
   "source": [
    "temp = X.join(y)\n",
    "temp = temp[[y.name] + X.columns.tolist()]\n",
    "corr = temp.corr()\n",
    "corr.head()"
   ]
  },
  {
   "cell_type": "code",
   "execution_count": 159,
   "metadata": {},
   "outputs": [
    {
     "data": {
      "text/plain": [
       "undercut               1.000000\n",
       "direct_price_scaled    0.189118\n",
       "n_searches             0.167091\n",
       "ota_The Evil Queen     0.136130\n",
       "cur_other              0.116809\n",
       "n_rooms                0.116111\n",
       "m_cos                  0.079436\n",
       "cont_OC                0.067269\n",
       "cur_AUD                0.063786\n",
       "adults                 0.061226\n",
       "cont_AS                0.056833\n",
       "cont_AF                0.047944\n",
       "ota_Scar               0.033780\n",
       "cont_SA                0.032901\n",
       "ota_Queen of Hearts    0.030448\n",
       "cur_JPY                0.025097\n",
       "ota_Maleficent         0.016384\n",
       "cur_EUR                0.015307\n",
       "ota_Cruella De Vil     0.011026\n",
       "ota_Madam Mim          0.007276\n",
       "h_sin                  0.006818\n",
       "ota_Shere Khan         0.003373\n",
       "cur_GBP                0.003363\n",
       "ota_Sykes              0.003020\n",
       "ota_Big Bad Wolf       0.002025\n",
       "cont_other             0.001275\n",
       "ota_Jafar             -0.001957\n",
       "w_cos                 -0.002082\n",
       "ota_Amos Slade        -0.004658\n",
       "children              -0.004724\n",
       "cur_CAD               -0.005951\n",
       "h_cos                 -0.006920\n",
       "w_sin                 -0.007634\n",
       "cont_NA               -0.025356\n",
       "ota_Captain Hook      -0.032535\n",
       "ota_Hades             -0.034027\n",
       "cont_EU               -0.038575\n",
       "ota_Queen Grimhilde   -0.056179\n",
       "m_sin                 -0.070273\n",
       "cur_USD               -0.105687\n",
       "major_currency        -0.116809\n",
       "yr_r                  -0.125295\n",
       "chain                 -0.157448\n",
       "n_hotels              -0.283662\n",
       "Name: undercut, dtype: float64"
      ]
     },
     "execution_count": 159,
     "metadata": {},
     "output_type": "execute_result"
    }
   ],
   "source": [
    "corr['undercut'].sort_values(ascending=False)"
   ]
  },
  {
   "cell_type": "markdown",
   "metadata": {},
   "source": [
    "Interesting to see the most positively correlated features are:\n",
    "* direct_price_scaled\n",
    "* n_searches           \n",
    "* ota_The Evil Queen   \n",
    "* cur_other            \n",
    "* n_rooms              \n",
    "\n",
    "And the most negatively correlated were:\n",
    "* cur_USD\n",
    "* major_currency\n",
    "* yr_r\n",
    "* chain\n",
    "* n_hotels\n",
    "\n",
    "Below we also show a heatmap:"
   ]
  },
  {
   "cell_type": "code",
   "execution_count": 161,
   "metadata": {},
   "outputs": [
    {
     "data": {
      "text/plain": [
       "<matplotlib.axes._subplots.AxesSubplot at 0x1a5a44d4a8>"
      ]
     },
     "execution_count": 161,
     "metadata": {},
     "output_type": "execute_result"
    },
    {
     "data": {
      "image/png": "[encoded data removed]",
      "text/plain": [
       "<matplotlib.figure.Figure at 0x1a5b7a96d8>"
      ]
     },
     "metadata": {},
     "output_type": "display_data"
    }
   ],
   "source": [
    "# corr['undercut']\n",
    "sns.heatmap(corr, cmap=\"YlGnBu\")"
   ]
  },
  {
   "cell_type": "markdown",
   "metadata": {},
   "source": [
    "* This also shows we have some collinear features (correlated to each other) which is usually a problem and should be handled via some regularisation technique like Lasso feature selection or Ridge. For example, we exprench `chain` to be highly correlated to `n_hotels` as it is derived from there. Ideally we want to select an orthogonal set of features"
   ]
  },
  {
   "cell_type": "markdown",
   "metadata": {},
   "source": [
    "# The model\n",
    "\n",
    "Given the short time, I only had time to do a very simple train-test split of 80%-20% and also as model just used the simple `LogisticRegression`, which is very common for these type of classfication problems. Please see Future Work section below where I discuss some of the additional analysis I would have done given more time."
   ]
  },
  {
   "cell_type": "code",
   "execution_count": 194,
   "metadata": {},
   "outputs": [
    {
     "name": "stdout",
     "output_type": "stream",
     "text": [
      "Running model... took:\n"
     ]
    },
    {
     "name": "stderr",
     "output_type": "stream",
     "text": [
      "/Users/tsando/anaconda3/lib/python3.6/site-packages/sklearn/model_selection/_split.py:2026: FutureWarning: From version 0.21, test_size will always complement train_size unless both are specified.\n",
      "  FutureWarning)\n"
     ]
    },
    {
     "name": "stdout",
     "output_type": "stream",
     "text": [
      "0.656144242528\n",
      "Run time: 0h:0m:2s\n"
     ]
    }
   ],
   "source": [
    "# Define the model\n",
    "model = LogisticRegression(random_state=0)\n",
    "\n",
    "print('Running model... took:')\n",
    "\n",
    "start_time = time.time()\n",
    "\n",
    "# split the data with 80% in train\n",
    "X_train, X_test, y_train, y_test = train_test_split(X, y, random_state=0, train_size=0.8)\n",
    "\n",
    "# fit the model on one set of data\n",
    "model.fit(X_train, y_train)\n",
    "\n",
    "# evaluate the model on the second set of data\n",
    "y_test_model = model.predict(X_test)\n",
    "\n",
    "print(accuracy_score(y_test, y_test_model))\n",
    "print_runtime(start_time)\n",
    "\n"
   ]
  },
  {
   "cell_type": "markdown",
   "metadata": {},
   "source": [
    "So with this very simple model we get an accuracy of ~66% percent, which isn't great but at least gives a good sign of the potential to get better scores given more data and feature engineering.\n",
    "\n",
    "Also let's look a bit deeper at the confusion matrix to understand the false positives rate:"
   ]
  },
  {
   "cell_type": "code",
   "execution_count": 172,
   "metadata": {},
   "outputs": [
    {
     "data": {
      "image/png": "[encoded data removed]",
      "text/plain": [
       "<matplotlib.figure.Figure at 0x1a5a373198>"
      ]
     },
     "metadata": {},
     "output_type": "display_data"
    }
   ],
   "source": [
    "from sklearn.metrics import confusion_matrix\n",
    "\n",
    "labels = np.sort(np.unique(y_test))\n",
    "mat = confusion_matrix(y_test, y_test_model)\n",
    "sns.heatmap(mat.T, square=True, annot=True, fmt='d', cbar=False,\n",
    "            xticklabels=labels,\n",
    "            yticklabels=labels)\n",
    "plt.xlabel('true label')\n",
    "plt.ylabel('predicted label');"
   ]
  },
  {
   "cell_type": "code",
   "execution_count": 176,
   "metadata": {},
   "outputs": [
    {
     "data": {
      "text/plain": [
       "0.67160382158403531"
      ]
     },
     "execution_count": 176,
     "metadata": {},
     "output_type": "execute_result"
    }
   ],
   "source": [
    "from sklearn.metrics import recall_score\n",
    "recall_score(y_test, y_test_model)"
   ]
  },
  {
   "cell_type": "markdown",
   "metadata": {},
   "source": [
    "So actually our recall is slightly better than the accuracy score quote above, which means we are actually doing better as predicting the true positives (the cases when the OTA undercuts)"
   ]
  },
  {
   "cell_type": "code",
   "execution_count": 201,
   "metadata": {},
   "outputs": [
    {
     "name": "stdout",
     "output_type": "stream",
     "text": [
      "Running model... took:\n"
     ]
    },
    {
     "name": "stderr",
     "output_type": "stream",
     "text": [
      "/Users/tsando/anaconda3/lib/python3.6/site-packages/sklearn/model_selection/_split.py:2026: FutureWarning: From version 0.21, test_size will always complement train_size unless both are specified.\n",
      "  FutureWarning)\n"
     ]
    },
    {
     "name": "stdout",
     "output_type": "stream",
     "text": [
      "0.695532235589\n",
      "Run time: 0h:0m:2s\n"
     ]
    }
   ],
   "source": [
    "from sklearn.tree import DecisionTreeClassifier\n",
    "from undercut import run_simple\n",
    "\n",
    "model = DecisionTreeClassifier(random_state=0)\n",
    "run_simple(X, y, model)\n"
   ]
  },
  {
   "cell_type": "markdown",
   "metadata": {},
   "source": [
    "So actually we see a RandomForests model is doing better than LogisticRegression in this case. The heatmap below also looks better"
   ]
  },
  {
   "cell_type": "code",
   "execution_count": 203,
   "metadata": {},
   "outputs": [
    {
     "data": {
      "image/png": "[encoded data removed]",
      "text/plain": [
       "<matplotlib.figure.Figure at 0x1a5a2f3a20>"
      ]
     },
     "metadata": {},
     "output_type": "display_data"
    }
   ],
   "source": [
    "from sklearn.metrics import confusion_matrix\n",
    "\n",
    "labels = np.sort(np.unique(y_test))\n",
    "mat = confusion_matrix(y_test, y_test_model)\n",
    "sns.heatmap(mat.T, square=True, annot=True, fmt='d', cbar=False,\n",
    "            xticklabels=labels,\n",
    "            yticklabels=labels)\n",
    "plt.xlabel('true label')\n",
    "plt.ylabel('predicted label');"
   ]
  },
  {
   "cell_type": "code",
   "execution_count": 204,
   "metadata": {},
   "outputs": [
    {
     "data": {
      "text/plain": [
       "0.69353835717112333"
      ]
     },
     "execution_count": 204,
     "metadata": {},
     "output_type": "execute_result"
    }
   ],
   "source": [
    "recall_score(y_test, y_test_model)"
   ]
  },
  {
   "cell_type": "markdown",
   "metadata": {},
   "source": [
    "### Cross-validation\n",
    "\n",
    "A bit rushed, but here's some cross-validation of the accuracy score using a 10-fold:"
   ]
  },
  {
   "cell_type": "code",
   "execution_count": 205,
   "metadata": {},
   "outputs": [
    {
     "name": "stdout",
     "output_type": "stream",
     "text": [
      "Running pipeline... took:\n",
      "Run time: 0h:0m:27s\n",
      "scores=[ 0.42935957  0.55232624  0.53458082  0.44016608  0.54817427  0.53526334\n",
      "  0.39232082  0.38134243  0.49078498  0.43464164]\n",
      "mean=0.4739\n"
     ]
    }
   ],
   "source": [
    "from sklearn.pipeline import make_pipeline\n",
    "from sklearn.model_selection import cross_val_score\n",
    "\n",
    "def cross_val_pipeline(X, y, model, cv):\n",
    "    # Cross-validation\n",
    "    print('Running pipeline... took:')\n",
    "    start_time = time.time()\n",
    "\n",
    "    pipeline = make_pipeline(model)\n",
    "    scores = cross_val_score(pipeline, X, y, cv=cv)  # investigate how to speed up\n",
    "\n",
    "    print_runtime(start_time)\n",
    "    print('scores={}\\nmean={:.4f}'.format(scores, np.mean(scores)))\n",
    "\n",
    "model = DecisionTreeClassifier(random_state=0)\n",
    "cross_val_pipeline(X, y, model, cv=10)"
   ]
  },
  {
   "cell_type": "markdown",
   "metadata": {},
   "source": [
    "A bit discouraging to see the accuracy scores lower in the cross-validation, but this could be because of the little data we have and not very good feature engineering!"
   ]
  },
  {
   "cell_type": "markdown",
   "metadata": {},
   "source": [
    "# Future Work\n",
    "\n",
    "* Approach the problem as a **linear regression** task rather than Logistic Regressiob, i.e. the task is to forecast the OTA prices\n",
    "\n",
    "\n",
    "* **Impute** missing values in `ota_price` and `user_country` to recover some data, specially to upsample the `undercut` class\n",
    "\n",
    "\n",
    "* Investigate further validity of removing **outliers**. Also we did this in the full dataset, not on the train set, which is cheating as we are introducing forward-look bias (in practice we don't have all the data to know the distribution)\n",
    "\n",
    "\n",
    "* Understand the validity of downsampling to balance the classes. Perhaps try other methods like **upsampling** the minority class instead, or **optimising on F1 or recall** to improve the model scores\n",
    "\n",
    "\n",
    "* Do better **feature engineering** and avoid introducing biases from building features from the full datase rather than just the train set\n",
    "\n",
    "\n",
    "* **Dimensionality reduction** of OTA feature, e.g. split by top 4 and 'other' instead of having all of then one-hot-encoded as there are perhaps too many and not all of them have enough training examples:"
   ]
  },
  {
   "cell_type": "code",
   "execution_count": 178,
   "metadata": {},
   "outputs": [
    {
     "data": {
      "text/plain": [
       "array(['Amos Slade', 'Big Bad Wolf', 'Captain Hook', 'Cruella De Vil',\n",
       "       'Hades', 'Jafar', 'Madam Mim', 'Maleficent', 'Queen Grimhilde',\n",
       "       'Queen of Hearts', 'Scar', 'Shere Khan', 'Sykes', 'The Evil Queen'], dtype=object)"
      ]
     },
     "execution_count": 178,
     "metadata": {},
     "output_type": "execute_result"
    }
   ],
   "source": [
    "np.unique(df['ota'])"
   ]
  },
  {
   "cell_type": "markdown",
   "metadata": {},
   "source": [
    "* **Dimensionality reduction** of **collinear** features, using L1 or L2 regularisation, e.g. using `sklearn`'s `SelectFromModel` or via `penalty` parameter in `LogisticRegression`"
   ]
  },
  {
   "cell_type": "code",
   "execution_count": 170,
   "metadata": {},
   "outputs": [
    {
     "data": {
      "text/plain": [
       "Index(['adults', 'children', 'direct_price_scaled', 'h_sin', 'h_cos', 'w_sin',\n",
       "       'w_cos', 'm_sin', 'm_cos', 'yr_r', 'n_hotels', 'n_rooms', 'n_searches',\n",
       "       'chain', 'major_currency', 'ota_Amos Slade', 'ota_Big Bad Wolf',\n",
       "       'ota_Captain Hook', 'ota_Cruella De Vil', 'ota_Hades', 'ota_Jafar',\n",
       "       'ota_Madam Mim', 'ota_Maleficent', 'ota_Queen Grimhilde',\n",
       "       'ota_Queen of Hearts', 'ota_Scar', 'ota_Shere Khan', 'ota_Sykes',\n",
       "       'ota_The Evil Queen', 'cont_AF', 'cont_AS', 'cont_EU', 'cont_NA',\n",
       "       'cont_OC', 'cont_SA', 'cont_other', 'cur_AUD', 'cur_CAD', 'cur_EUR',\n",
       "       'cur_GBP', 'cur_JPY', 'cur_USD', 'cur_other'],\n",
       "      dtype='object')"
      ]
     },
     "execution_count": 170,
     "metadata": {},
     "output_type": "execute_result"
    }
   ],
   "source": [
    "from sklearn.feature_selection import SelectFromModel\n",
    "logit = LogisticRegression(penalty=\"l1\").fit(X, y)\n",
    "model = SelectFromModel(logit, prefit=True)\n",
    "X.columns[model.get_support()]"
   ]
  },
  {
   "cell_type": "markdown",
   "metadata": {},
   "source": [
    "* Understand why the **cross-validation** scores are so low compared to the train-test split \n",
    "\n",
    "\n",
    "\n",
    "* Model and hyper-parameter **optimisation** via `sklearn`'s `GridSearch`, e.g.:\n",
    "\n",
    "```python\n",
    "def grid_search_pipeline(X, y, models):\n",
    "    # Gridsearch with CV\n",
    "    print('Running pipeline... took:')\n",
    "    start_time = time.time()\n",
    "\n",
    "    pipe = Pipeline([('clf', SVC())])\n",
    "    param_grid = dict(clf=models)\n",
    "\n",
    "    grid_search = GridSearchCV(pipe, param_grid=param_grid)  # investigate how to speed up\n",
    "    grid_search.fit(X, y)\n",
    "    print(grid_search.best_estimator_)\n",
    "    print(grid_search.best_score_)\n",
    "    print_runtime(start_time)\n",
    "    return grid_search\n",
    "```\n",
    "\n",
    "\n",
    "* remove levels with few or no observations in train or test set\n",
    "\n",
    "\n",
    "* add holidays as special events"
   ]
  }
 ],
 "metadata": {
  "kernelspec": {
   "display_name": "Python 3",
   "language": "python",
   "name": "python3"
  },
  "language_info": {
   "codemirror_mode": {
    "name": "ipython",
    "version": 3
   },
   "file_extension": ".py",
   "mimetype": "text/x-python",
   "name": "python",
   "nbconvert_exporter": "python",
   "pygments_lexer": "ipython3",
   "version": "3.6.2"
  }
 },
 "nbformat": 4,
 "nbformat_minor": 2
}
